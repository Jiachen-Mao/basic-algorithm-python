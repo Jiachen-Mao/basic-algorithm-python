{
 "cells": [
  {
   "cell_type": "code",
   "execution_count": null,
   "metadata": {},
   "outputs": [],
   "source": [
    "# Lists\n",
    "\n",
    "def handler(result):\n",
    "    inp = input().split()\n",
    "    command = inp[0]\n",
    "    values = inp[1:]\n",
    "    \n",
    "    if command == 'print':\n",
    "        print(result)\n",
    "    else:\n",
    "        execute = 'result.' + command + \"(\" + \",\".join(value) + \")\"\n",
    "        eval(execute)"
   ]
  },
  {
   "cell_type": "code",
   "execution_count": null,
   "metadata": {},
   "outputs": [],
   "source": [
    "# Tuples\n",
    "\n",
    "n = int(input())\n",
    "\n",
    "print(hash(tuple(map(int, input().split()))))"
   ]
  },
  {
   "cell_type": "code",
   "execution_count": null,
   "metadata": {},
   "outputs": [],
   "source": [
    "# sWAP cASE\n",
    "\n",
    "def swap_case(s):\n",
    "    return s.swapcase()"
   ]
  },
  {
   "cell_type": "code",
   "execution_count": null,
   "metadata": {},
   "outputs": [],
   "source": [
    "# String split and join\n",
    "\n",
    "def split_andjoin(line):\n",
    "    return \"-\".join(line.split())"
   ]
  },
  {
   "cell_type": "code",
   "execution_count": null,
   "metadata": {},
   "outputs": [],
   "source": [
    "# What's your name\n",
    "\n",
    "def print_full_name(first_name, last_name):\n",
    "    print(\"Hello {} {}!\".format(first_name, last_name))"
   ]
  },
  {
   "cell_type": "code",
   "execution_count": null,
   "metadata": {},
   "outputs": [],
   "source": [
    "# Mutations\n",
    "\n",
    "def mutate_string(string, position, character):\n",
    "    return string[:position] + character + string[postion+1:]"
   ]
  },
  {
   "cell_type": "code",
   "execution_count": null,
   "metadata": {},
   "outputs": [],
   "source": [
    "# Find a string\n",
    "\n",
    "def count_substring(string, sub_string):\n",
    "    count = 0\n",
    "    for i in range(len(string) - len(sub_string) + 1):\n",
    "        if string[i: i+len(sub_string)] == sub_string:\n",
    "            count += 1\n",
    "            \n",
    "    return count"
   ]
  },
  {
   "cell_type": "code",
   "execution_count": null,
   "metadata": {},
   "outputs": [],
   "source": [
    "# String validators\n",
    "\n",
    "s = input()\n",
    "print(any([char.isalnum() for char in s]))\n",
    "print(any([char.isalpha() for char in s]))\n",
    "print(any([char.isdigit() for char in s]))\n",
    "print(any([char.islower() for char in s]))\n",
    "print(any([char.isupper() for char in s]))"
   ]
  },
  {
   "cell_type": "code",
   "execution_count": null,
   "metadata": {},
   "outputs": [],
   "source": [
    "# Text alignment\n",
    "\n",
    "thickness = int(input())\n",
    "c = 'H'\n",
    "\n",
    "for i in range(thickness):\n",
    "    print((c*i).rjust(thickness-1) + c + (c*i).ljust(thickness-1))\n",
    "    \n",
    "for i in range(thickness + 1):\n",
    "    print((c*thickness).center(thickness*2) + (c*thickness).center(thickness*6))\n",
    "    \n",
    "for i in range((thickness+1)//2):\n",
    "    print((c*thickness*5).center(thickness*6))\n",
    "    \n",
    "for i in range(thickness+1):\n",
    "    print((c*thickness).center(thickness*2) + (c*thickness).center(thickness*6))\n",
    "    \n",
    "for i in range(thickness):\n",
    "    print(((c*(thickness-i-1)).rjust(thickness) + c + (c*(thickness-i-1)).ljust(thickness)).rjust(thickness*6))"
   ]
  },
  {
   "cell_type": "code",
   "execution_count": null,
   "metadata": {},
   "outputs": [],
   "source": [
    "# Text wrap\n",
    "\n",
    "def wrap(string, max_width):\n",
    "    return textwrap.fill(string, max_width)"
   ]
  },
  {
   "cell_type": "code",
   "execution_count": null,
   "metadata": {},
   "outputs": [],
   "source": [
    "# Designer door wrap\n",
    "\n",
    "height, length = map(int, input().split())\n",
    "\n",
    "for i in range(0, height//2):\n",
    "    s = '.|.' * (i*2 + 1)\n",
    "    print(s.center(length, '-'))\n",
    "\n",
    "print('WELCOME'.center(length, '-'))\n",
    "\n",
    "for i in range(height//2 - 1, -1, -1):\n",
    "    s = '.|.' * (i*2 + 1)\n",
    "    print(s.center(length, '-'))"
   ]
  },
  {
   "cell_type": "code",
   "execution_count": null,
   "metadata": {},
   "outputs": [],
   "source": [
    "# String formatting\n",
    "\n",
    "def print_formatted(number):\n",
    "    width = len(\"{0:b}\".format(number))\n",
    "    for i in range(1, number + 1):\n",
    "        print(\"{0:{width}d} {0:{width}o} {0:{width}X} {0:{width}b}\".format(i, width = width))"
   ]
  },
  {
   "cell_type": "code",
   "execution_count": null,
   "metadata": {},
   "outputs": [],
   "source": [
    "# Capitalize\n",
    "\n",
    "st = input()\n",
    "\n",
    "print(' '.join(word.capitalize() for word in st.split(' ')))"
   ]
  },
  {
   "cell_type": "code",
   "execution_count": null,
   "metadata": {},
   "outputs": [],
   "source": [
    "# Introduction to sets\n",
    "\n",
    "def average(array):\n",
    "    return sum(set(array)) / len(set(array))"
   ]
  },
  {
   "cell_type": "code",
   "execution_count": null,
   "metadata": {},
   "outputs": [],
   "source": [
    "# No idea\n",
    "\n",
    "_ = input()\n",
    "array = input().split()\n",
    "like = set(input().split())\n",
    "dislike = set(input().split())\n",
    "\n",
    "print(sum((i in like) - (i in dislike) for i in array))"
   ]
  },
  {
   "cell_type": "code",
   "execution_count": null,
   "metadata": {},
   "outputs": [],
   "source": [
    "# Symmetric difference\n",
    "\n",
    "i, m = input(), set(map(int, input().split()))\n",
    "i, n = input(), set(map(int, input().split()))\n",
    "\n",
    "print(*sorted(m.symmetric_difference(n)), sep = '\\n')"
   ]
  },
  {
   "cell_type": "code",
   "execution_count": null,
   "metadata": {},
   "outputs": [],
   "source": [
    "# Set add()\n",
    "\n",
    "print(len(set(input() for i in range(int(input())))))"
   ]
  },
  {
   "cell_type": "code",
   "execution_count": null,
   "metadata": {},
   "outputs": [],
   "source": [
    "# Set discard(), remove(), and pop()\n",
    "\n",
    "n = int(input())\n",
    "s = set(map(int, input().split()))\n",
    "\n",
    "for i in range(int(input())):\n",
    "    string = input().split()\n",
    "    \n",
    "    if string[0] == 'pop':\n",
    "        s.pop()\n",
    "    \n",
    "    elif string[0] == 'remove':\n",
    "        s.remove(int(string[1]))\n",
    "        \n",
    "    elif string[0] == 'discard':\n",
    "        s.discard(int(string[1]))\n",
    "    \n",
    "print(sum(s))"
   ]
  },
  {
   "cell_type": "code",
   "execution_count": null,
   "metadata": {},
   "outputs": [],
   "source": [
    "# Set union()\n",
    "\n",
    "_, a = input(), set(input().split())\n",
    "_, b = input(), set(input().split())\n",
    "\n",
    "print(len(a.union(b)))"
   ]
  },
  {
   "cell_type": "code",
   "execution_count": null,
   "metadata": {},
   "outputs": [],
   "source": [
    "# Set intersection()\n",
    "\n",
    "_, a = input(), set(input().split())\n",
    "_, b = input(), set(input().split())\n",
    "\n",
    "print(len(a.intersection(b)))"
   ]
  },
  {
   "cell_type": "code",
   "execution_count": null,
   "metadata": {},
   "outputs": [],
   "source": [
    "# Set difference()\n",
    "\n",
    "_, a = input(), set(input().split())\n",
    "_, b = input(), set(input().split())\n",
    "\n",
    "print(len(a.difference(b)))"
   ]
  },
  {
   "cell_type": "code",
   "execution_count": null,
   "metadata": {},
   "outputs": [],
   "source": [
    "# Set symmetric_difference()\n",
    "\n",
    "_, a = input(), set(input().split())\n",
    "_, b = input(), set(input().split())\n",
    "\n",
    "print(len(a.symmetric_difference(b)))"
   ]
  },
  {
   "cell_type": "code",
   "execution_count": null,
   "metadata": {},
   "outputs": [],
   "source": [
    "# Set mutation\n",
    "\n",
    "def handler(a):\n",
    "    command = input().split()[0]\n",
    "    new_set = set(map(int, input().split()))\n",
    "    \n",
    "    if command == 'intersection_update':\n",
    "        a.intersection_update(new_set)\n",
    "        \n",
    "    if command == 'update':\n",
    "        a.update(new_set)\n",
    "        \n",
    "    if command == 'symmetric_difference_update':\n",
    "        a.symmetric_difference_update(new_set)\n",
    "        \n",
    "    if command == 'difference_update':\n",
    "        a.difference_update(new_set)"
   ]
  },
  {
   "cell_type": "code",
   "execution_count": null,
   "metadata": {},
   "outputs": [],
   "source": [
    "# Captain's room\n",
    "\n",
    "k = int(input())\n",
    "room_number_list = list(map(int, input().split()))\n",
    "captain_room_number = (sum(set(room_number_list))*k - sum(room_number_list)) // (k-1)\n",
    "print(captain_room_number)"
   ]
  },
  {
   "cell_type": "code",
   "execution_count": null,
   "metadata": {},
   "outputs": [],
   "source": [
    "# Check subset\n",
    "\n",
    "for i in range(int(input())):\n",
    "    _, a = input(), set(map(int, input().split()))\n",
    "    _, b = input(), set(map(int, input().split()))\n",
    "    print(a.issubset(b))"
   ]
  },
  {
   "cell_type": "code",
   "execution_count": null,
   "metadata": {},
   "outputs": [],
   "source": [
    "# Strict superset\n",
    "\n",
    "a = set(input().split())\n",
    "\n",
    "print(all(a > set(input().split()) for _ in range(int(input()))))"
   ]
  },
  {
   "cell_type": "code",
   "execution_count": null,
   "metadata": {},
   "outputs": [],
   "source": [
    "# Itertoolsproduct()\n",
    "\n",
    "from itertools import product\n",
    "\n",
    "a = list(map(int, input().split()))\n",
    "b = list(map(int, input().split()))\n",
    "\n",
    "print(*list(product(a, b)))"
   ]
  },
  {
   "cell_type": "code",
   "execution_count": null,
   "metadata": {},
   "outputs": [],
   "source": [
    "# Itertoolcominations()\n",
    "\n",
    "import itertools\n",
    "\n",
    "s = input().split()\n",
    "string, number = sorted(s[0]), int(s[1])\n",
    "\n",
    "for i in range(1, number + 1):\n",
    "    print(*list(map(''.join, itertools.combinations(string, i))), sep = '\\n')"
   ]
  },
  {
   "cell_type": "code",
   "execution_count": null,
   "metadata": {},
   "outputs": [],
   "source": [
    "# Itertools.permutations()\n",
    "\n",
    "import itertools\n",
    "\n",
    "s = input().split()\n",
    "string, number = sorted(s[0]), int(s[1])\n",
    "\n",
    "print(*list(map(''.join, itertools.permutations(string, number))), sep = '\\n')"
   ]
  },
  {
   "cell_type": "code",
   "execution_count": null,
   "metadata": {},
   "outputs": [],
   "source": [
    "# Itertools.combinations_with_replacement()\n",
    "\n",
    "import itertools\n",
    "\n",
    "s = input().split()\n",
    "string, number = sorted(s[0]), int(s[1])\n",
    "print(*list(map(''.join, itertools.combinations_with_replacement(string, number))), sep='\\n')"
   ]
  },
  {
   "cell_type": "code",
   "execution_count": null,
   "metadata": {},
   "outputs": [],
   "source": [
    "# Compress the string\n",
    "\n",
    "from itertools import groupby\n",
    "\n",
    "print(*[(len(list(c)), int(x)) for x, c in groupby(input())])"
   ]
  },
  {
   "cell_type": "code",
   "execution_count": null,
   "metadata": {},
   "outputs": [],
   "source": [
    "# Iterables and Iterators\n",
    "\n",
    "n, number, k = int(input()), input().split().count('a'), int(input())\n",
    "not_a = 1\n",
    "\n",
    "for i in range(k):\n",
    "    not_a = not_a * (n - number - i) / (n - i)\n",
    "    \n",
    "print(1 - not_a)"
   ]
  },
  {
   "cell_type": "code",
   "execution_count": null,
   "metadata": {},
   "outputs": [],
   "source": [
    "# Maximize it\n",
    "\n",
    "from itertools import product\n",
    "\n",
    "k, m = map(int, input().split())\n",
    "n = (list(map(int, input().split()))[1:] for _ in range(k))\n",
    "results = (sum(i**2 for i in x) % m for x in product(*n))\n",
    "print(max(results))"
   ]
  },
  {
   "cell_type": "code",
   "execution_count": null,
   "metadata": {},
   "outputs": [],
   "source": [
    "# collectionsCounter()\n",
    "\n",
    "import collections\n",
    "\n",
    "number_of_shoes = int(input())\n",
    "sizes_in_stock = collections.Counter(map(int, input().split()))\n",
    "\n",
    "total_revenue = 0\n",
    "\n",
    "for _ in range(int(input())):\n",
    "    size, price = map(int, input().split())\n",
    "    \n",
    "    if sizes_in_stock[size]:\n",
    "        total_revenue += price\n",
    "        sizes_in_stock[size] -= 1\n",
    "        \n",
    "print(total_revenue)"
   ]
  },
  {
   "cell_type": "code",
   "execution_count": null,
   "metadata": {},
   "outputs": [],
   "source": [
    "# DefaultDict\n",
    "\n",
    "from collections import defaultdict\n",
    "\n",
    "n, m = map(int, input().split())\n",
    "d = defaultdict(list)\n",
    "\n",
    "for i in range(1, n+1):\n",
    "    d[input()].append(str(i))\n",
    "\n",
    "for i in range(m):\n",
    "    print(' '.join(d[input()]) or -1)"
   ]
  },
  {
   "cell_type": "code",
   "execution_count": null,
   "metadata": {},
   "outputs": [],
   "source": [
    "# namedtuple()\n",
    "\n",
    "from collections import namedtuple\n",
    "\n",
    "n, Student = int(input()), namedtuple('Student', input())\n",
    "\n",
    "print(\"{:.2f}\".format(sum([int(Student(*input().split()).MARKS) for _ in range(n)]) / n))"
   ]
  },
  {
   "cell_type": "code",
   "execution_count": null,
   "metadata": {},
   "outputs": [],
   "source": [
    "from collections import OrderedDict\n",
    "\n",
    "order_dictionary = OrderedDict()\n",
    "\n",
    "for _ in range(int(input())):\n",
    "    item, price = input().rsplit(' ', 1)\n",
    "    order_dictionary[item] = ordered_dictionary.get(item, 0) + int(price)\n",
    "    \n",
    "[print(item, order_dictionary[item]) for item in order_dictionary]"
   ]
  },
  {
   "cell_type": "code",
   "execution_count": null,
   "metadata": {},
   "outputs": [],
   "source": [
    "# Word order\n",
    "\n",
    "from collections import Counter, OrderedDict\n",
    "\n",
    "class OrderedCounter(Counter, OrderedDict):\n",
    "    pass\n",
    "\n",
    "ordered_counter = OrderedCounter(input() for _ in range(int(input())))\n",
    "print(len(ordered_counter))\n",
    "print(*ordered_counter.values())"
   ]
  },
  {
   "cell_type": "code",
   "execution_count": null,
   "metadata": {},
   "outputs": [],
   "source": [
    "# deque()\n",
    "\n",
    "from collections import deque\n",
    "\n",
    "d = deque()\n",
    "\n",
    "for _ in range(int(input())):\n",
    "    line = input().split()\n",
    "    \n",
    "    if line[0] == 'append':\n",
    "        d.append(line[1])\n",
    "        \n",
    "    elif line[0] == 'pop':\n",
    "        d.pop()\n",
    "        \n",
    "    elif line[0] == 'popleft':\n",
    "        d.popleft()\n",
    "        \n",
    "    elif line[0] == 'appendleft':\n",
    "        d.qppendleft(line[1])\n",
    "        \n",
    "print(*d)"
   ]
  },
  {
   "cell_type": "code",
   "execution_count": null,
   "metadata": {},
   "outputs": [],
   "source": [
    "# piling up\n",
    "\n",
    "from collections import deque\n",
    "\n",
    "for i in range(int(input())):\n",
    "    _, n = input(), deque(map(int, input().split()))\n",
    "    ans = True\n",
    "    \n",
    "    for j in range(len(n) - 1):\n",
    "        if n[0] >= n[1]:\n",
    "            n.popleft()\n",
    "            \n",
    "        elif n[-1] >= n[-2]:\n",
    "            n.pop()\n",
    "            \n",
    "        else:\n",
    "            ans = False\n",
    "            break\n",
    "            \n",
    "    print('Yes' if ans else 'No')"
   ]
  },
  {
   "cell_type": "code",
   "execution_count": null,
   "metadata": {},
   "outputs": [],
   "source": [
    "# Calendar module\n",
    "\n",
    "import calendar\n",
    "\n",
    "m, d, y = map(int, input().split())\n",
    "print(calendar.day_name[calendar.weekday(y, m, d)].upper())"
   ]
  },
  {
   "cell_type": "code",
   "execution_count": null,
   "metadata": {},
   "outputs": [],
   "source": [
    "# Time delta\n",
    "\n",
    "from datetime import datetime as dt\n",
    "\n",
    "fmt = '%a %d %b %Y %H:%M:%S %z'\n",
    "\n",
    "for _ in range(int(input())):\n",
    "    time1 = dt.strptime(input(), fmt)\n",
    "    time2 = dt.strptime(input(), fmt)\n",
    "    \n",
    "    print(int(abs((time1 - time2).total_seconds())))"
   ]
  },
  {
   "cell_type": "code",
   "execution_count": null,
   "metadata": {},
   "outputs": [],
   "source": [
    "# Exceptions\n",
    "\n",
    "for _ in range(int(input())):\n",
    "    a, b = input().split()\n",
    "    \n",
    "    try:\n",
    "        print(int(a) // int(b))\n",
    "    except BaseException as err:\n",
    "        print(\"Error code:\", err)"
   ]
  },
  {
   "cell_type": "code",
   "execution_count": null,
   "metadata": {},
   "outputs": [],
   "source": [
    "# Incorrect regex\n",
    "\n",
    "import re\n",
    "\n",
    "for _ in range(int(input())):\n",
    "    try:\n",
    "        print(bool(re.compile(input())))\n",
    "    except re.error:\n",
    "        print('False')"
   ]
  },
  {
   "cell_type": "code",
   "execution_count": null,
   "metadata": {},
   "outputs": [],
   "source": [
    "# Array\n",
    "\n",
    "import numpy\n",
    "\n",
    "def arrays(arr):\n",
    "    return numpy.array(arr[::-1], float)\n",
    "\n",
    "arr = input().strip().split(' ')\n",
    "result = arrays(arr)\n",
    "print(result)"
   ]
  },
  {
   "cell_type": "code",
   "execution_count": null,
   "metadata": {},
   "outputs": [],
   "source": [
    "# Shape and reshape\n",
    "\n",
    "import numpy as np\n",
    "\n",
    "array = np.array(list(map(int, input().split())))\n",
    "print(array.reshape(3, 3))"
   ]
  },
  {
   "cell_type": "code",
   "execution_count": null,
   "metadata": {},
   "outputs": [],
   "source": [
    "def reverseArray(arr):\n",
    "    result = arr[::-1]\n",
    "    return result\n",
    "\n",
    "arrCount = int(input())\n",
    "arr = list(map(int, input().rstrip().split()))\n",
    "result = reverseArray(arr)\n",
    "print(*result)"
   ]
  },
  {
   "cell_type": "code",
   "execution_count": null,
   "metadata": {},
   "outputs": [],
   "source": [
    "# Sock merchant\n",
    "\n",
    "def sock_merchant(ar):\n",
    "    list_of_socks = [0 for i in range(101)]\n",
    "    \n",
    "    for element in ar:\n",
    "        list_of_socks[element] = list_of_socks[element] + 1\n",
    "        \n",
    "    ans = 0\n",
    "    \n",
    "    for sock in list_of_socks:\n",
    "        ans += sock // 2\n",
    "        \n",
    "    return ans\n",
    "\n",
    "n = int(input().strip())\n",
    "ar = list(map(int, input().strip().split(' ')))\n",
    "result = sock_merchant(ar)\n",
    "print(result)"
   ]
  },
  {
   "cell_type": "code",
   "execution_count": null,
   "metadata": {},
   "outputs": [],
   "source": [
    "# Counting valleys\n",
    "\n",
    "def counting_valleys(n, s):\n",
    "    current_level = 0\n",
    "    count = 0\n",
    "    for i in range(n):\n",
    "        if s[i] == 'U':\n",
    "            current_level += 1\n",
    "        elif s[i] == 'D':\n",
    "            current_level -= 1\n",
    "            if current_level == -1:\n",
    "                count += 1\n",
    "    return count\n",
    "\n",
    "n = int(input().strip())\n",
    "s = input().strip()\n",
    "result = counting_valleys(n, s)\n",
    "print(result)"
   ]
  },
  {
   "cell_type": "code",
   "execution_count": null,
   "metadata": {},
   "outputs": [],
   "source": [
    "# Jumping on the clouds\n",
    "\n",
    "def jumping_on_clouds(n, c):\n",
    "    c.append(0)\n",
    "    ans = 0\n",
    "    position = 0\n",
    "    while position < n-1:\n",
    "        position += (c[position + 2] == 0) + 1\n",
    "        ans += 1\n",
    "    return ans\n",
    "\n",
    "n = int(input())\n",
    "c = list(map(int, input().rstrip().split()))\n",
    "print(jumping_on_clouds(n, c))"
   ]
  },
  {
   "cell_type": "code",
   "execution_count": null,
   "metadata": {},
   "outputs": [],
   "source": [
    "# Repeated string\n",
    "\n",
    "def repeated_string(s, n):\n",
    "    return n // len(s) * s.count('a') + s[0: n%len(s)].count('a')\n",
    "\n",
    "s = input()\n",
    "n = int(input())\n",
    "print(repeated_string(s, n))"
   ]
  },
  {
   "cell_type": "code",
   "execution_count": null,
   "metadata": {},
   "outputs": [],
   "source": [
    "# Array - left rotation\n",
    "\n",
    "def array_left_rotation(a, k):\n",
    "    result = a[k:] + a[:k]\n",
    "    return result\n",
    "\n",
    "n, k = map(int, input().split())\n",
    "a = list(map(int, input().split()))\n",
    "print(*array_left_rotation(a, k))"
   ]
  },
  {
   "cell_type": "code",
   "execution_count": null,
   "metadata": {},
   "outputs": [],
   "source": [
    "# 2D array\n",
    "\n",
    "def hourglasses(arr, i, j):\n",
    "    return sum(arr[i][j:j+3]) + arr[i+1][j+1] + sum(arr[i+2][j:j+3])\n",
    "\n",
    "arr = []\n",
    "for i in range(6):\n",
    "    arr.append(list(map(int, input().split())))\n",
    "    \n",
    "ans = hourglasses(arr, 0, 0)\n",
    "\n",
    "for i in range(4):\n",
    "    for j in range(4):\n",
    "        ans = max(ans, hourglasses(arr, i, j))\n",
    "print(ans)"
   ]
  },
  {
   "cell_type": "code",
   "execution_count": null,
   "metadata": {},
   "outputs": [],
   "source": [
    "# Transpose and flatten\n",
    "\n",
    "import numpy\n",
    "\n",
    "n, m = map(int, input().split())\n",
    "ar = []\n",
    "\n",
    "for i in range(n):\n",
    "    row = list(map(int, input().split()))\n",
    "    ar.append(row)\n",
    "\n",
    "np_ar = numpy.array(ar)\n",
    "print(numpy.transpose(np_ar))\n",
    "print(np_ar.flatten())"
   ]
  },
  {
   "cell_type": "code",
   "execution_count": null,
   "metadata": {},
   "outputs": [],
   "source": [
    "# Concatenate\n",
    "\n",
    "import numpy as np\n",
    "\n",
    "n, m, p = map(int, input().split())\n",
    "\n",
    "ar1 = []\n",
    "ar2 = []\n",
    "\n",
    "for i in range(n):\n",
    "    tmp = list(map(int, input().split()))\n",
    "    ar1.append(tmp)\n",
    "    \n",
    "for i in range(m):\n",
    "    tmp = list(map(int, input().split()))\n",
    "    ar2.append(tmp)\n",
    "    \n",
    "np_ar1 = np.array(ar1)\n",
    "np_ar2 = np.array(ar2)\n",
    "\n",
    "print(np.concatenate((np_ar1, np_ar2), axis = 0))"
   ]
  },
  {
   "cell_type": "code",
   "execution_count": null,
   "metadata": {},
   "outputs": [],
   "source": [
    "# Zeros and ones\n",
    "\n",
    "import numpy as np\n",
    "\n",
    "n_ar = list(map(int, input().split()))\n",
    "n = tuple(n_ar)\n",
    "\n",
    "print(np.zeros(n, dtype = np.int))\n",
    "print(np.ones(n, dtype = np.int))"
   ]
  },
  {
   "cell_type": "code",
   "execution_count": null,
   "metadata": {},
   "outputs": [],
   "source": [
    "# Eye and identity\n",
    "\n",
    "import numpy as np\n",
    "\n",
    "n, m = map(int, input().split())\n",
    "print(np.eye(n, m, k = 0))"
   ]
  },
  {
   "cell_type": "code",
   "execution_count": null,
   "metadata": {},
   "outputs": [],
   "source": [
    "# Array Mathematics\n",
    "\n",
    "import numpy as np\n",
    "\n",
    "n, m = map(int, input().split())\n",
    "ar1 = []\n",
    "ar2 = []\n",
    "\n",
    "for i in range(n):\n",
    "    tmp = list(map(int, input().split()))\n",
    "    ar1.append(tmp)\n",
    "    \n",
    "for i in range(n):\n",
    "    tmp = list(map(int, input().split()))\n",
    "    ar2.append(tmp)\n",
    "    \n",
    "np_ar1 = np.array(ar1)\n",
    "np_ar2 = np.array(ar2)\n",
    "\n",
    "print(np_ar1 + np_ar2)\n",
    "print(np_ar1 - np_ar2)\n",
    "print(np_ar1 * np_ar2)\n",
    "print(np_ar1 // np_ar2)\n",
    "print(np_ar1 % np_ar2)\n",
    "print(np_ar1 ** np_ar2)"
   ]
  },
  {
   "cell_type": "code",
   "execution_count": null,
   "metadata": {},
   "outputs": [],
   "source": [
    "# Floor, ceil, and rint\n",
    "\n",
    "import numpy as np\n",
    "\n",
    "np_ar = np.array(list(map(float, input().split())), float)\n",
    "\n",
    "print(np.floor(np_ar))\n",
    "print(np.ceil(np_ar))\n",
    "print(np.rint(np_ar))"
   ]
  },
  {
   "cell_type": "code",
   "execution_count": null,
   "metadata": {},
   "outputs": [],
   "source": [
    "# Sum and Prod\n",
    "\n",
    "import numpy as np\n",
    "\n",
    "n, m = map(int, input().split())\n",
    "ar = []\n",
    "\n",
    "for i in range(n):\n",
    "    tmp = list(map(int, input().split()))\n",
    "    ar.append(tmp)\n",
    "    \n",
    "np_ar = np.array(ar)\n",
    "s = np.sum(np_ar, axis = 0)\n",
    "print(np.prod(s))"
   ]
  },
  {
   "cell_type": "code",
   "execution_count": null,
   "metadata": {},
   "outputs": [],
   "source": [
    "# Min and Max\n",
    "\n",
    "import numpy as np\n",
    "\n",
    "n, m = map(int, input().split())\n",
    "ar = []\n",
    "\n",
    "for i in range(n):\n",
    "    tmp = list(map(int, input().split()))\n",
    "    ar.append(tmp)\n",
    "    \n",
    "np_ar = np.array(ar)\n",
    "print(np.max(np.min(np_ar, axis = 1)))"
   ]
  },
  {
   "cell_type": "code",
   "execution_count": null,
   "metadata": {},
   "outputs": [],
   "source": [
    "# Mean, var, and std\n",
    "\n",
    "n, m = map(int, input().split())\n",
    "ar = []\n",
    "\n",
    "for i in range(n):\n",
    "    tmp = list(map(int, input().split()))\n",
    "    ar.append(tmp)\n",
    "    \n",
    "np_ar = np.array(ar)\n",
    "\n",
    "print(np.mean(np_ar, axis = 1))\n",
    "print(np.var(np_ar, axis = 0))\n",
    "print(np.std(np_ar))"
   ]
  },
  {
   "cell_type": "code",
   "execution_count": null,
   "metadata": {},
   "outputs": [],
   "source": [
    "# Dot and Cross\n",
    "\n",
    "import numpy as np\n",
    "\n",
    "n = int(input())\n",
    "ar1 = []\n",
    "ar2 = []\n",
    "\n",
    "for i in range(n):\n",
    "    tmp = list(map(int, input().split()))\n",
    "    ar1.append(tmp)\n",
    "    \n",
    "for i in range(n):\n",
    "    tmp = list(map(int, input().split()))\n",
    "    ar2.append(tmp)\n",
    "    \n",
    "np_ar1 = np.array(ar1)\n",
    "np_ar2 = np.array(ar2)\n",
    "\n",
    "print(np.dot(np_ar1, np_ar2))"
   ]
  },
  {
   "cell_type": "code",
   "execution_count": null,
   "metadata": {},
   "outputs": [],
   "source": [
    "# Inner and Outer\n",
    "\n",
    "import numpy\n",
    "\n",
    "np_ar1 = numpy.array(list(map(int,input().split())))\n",
    "np_ar2 = numpy.array(list(map(int,input().split())))\n",
    "\n",
    "print(numpy.inner(np_ar1, np_ar2))\n",
    "print(numpy.outer(np_ar1, np_ar2))"
   ]
  },
  {
   "cell_type": "code",
   "execution_count": null,
   "metadata": {},
   "outputs": [],
   "source": [
    "# Polynomial\n",
    "\n",
    "import numpy as np\n",
    "\n",
    "p = np.array(list(map(float, input().split())), float)\n",
    "x = float(input())\n",
    "\n",
    "print(np.polyval(p, x))"
   ]
  },
  {
   "cell_type": "code",
   "execution_count": null,
   "metadata": {},
   "outputs": [],
   "source": [
    "# Linear Algebra\n",
    "\n",
    "import numpy as np\n",
    "\n",
    "n = int(input())\n",
    "ar = []\n",
    "\n",
    "for i in range(n):\n",
    "    tmp = list(map(float, input().split()))\n",
    "    ar.append(tmp)\n",
    "    \n",
    "np_ar = np.array(ar, float)\n",
    "print(round(np.linalg.det(np_ar), 2))"
   ]
  },
  {
   "cell_type": "code",
   "execution_count": null,
   "metadata": {},
   "outputs": [],
   "source": [
    "# WordsScore\n",
    "\n",
    "def is_vowel(letter):\n",
    "    return letter in ['a', 'e', 'i', 'o', 'u', 'y']\n",
    "\n",
    "def score_words(words):\n",
    "    score = 0\n",
    "    for word in words:\n",
    "        num_vowels = 0\n",
    "        for letter in word:\n",
    "            if is_vowel(letter):\n",
    "                num_vowels += 1\n",
    "        if num_vowels % 2 == 0:\n",
    "            score += 2\n",
    "        else:\n",
    "            score += 1\n",
    "    return score"
   ]
  }
 ],
 "metadata": {
  "kernelspec": {
   "display_name": "Python 3",
   "language": "python",
   "name": "python3"
  },
  "language_info": {
   "codemirror_mode": {
    "name": "ipython",
    "version": 3
   },
   "file_extension": ".py",
   "mimetype": "text/x-python",
   "name": "python",
   "nbconvert_exporter": "python",
   "pygments_lexer": "ipython3",
   "version": "3.7.3"
  }
 },
 "nbformat": 4,
 "nbformat_minor": 2
}
