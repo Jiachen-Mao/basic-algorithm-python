{
 "cells": [
  {
   "cell_type": "code",
   "execution_count": null,
   "metadata": {},
   "outputs": [],
   "source": [
    "## 0 Demo test\n",
    "\n",
    "def solution(A):\n",
    "    left_sum = 0\n",
    "    right_sum = sum(A)\n",
    "    \n",
    "    for i in range(len(A)):\n",
    "        right_sum -= A[i]\n",
    "        if left_sum == right_sum:\n",
    "            return i\n",
    "        left_sum += A[i]\n",
    "    else:\n",
    "        return -1"
   ]
  },
  {
   "cell_type": "code",
   "execution_count": null,
   "metadata": {},
   "outputs": [],
   "source": [
    "## 1 Binary gap\n",
    "\n",
    "def solution(N):\n",
    "    binary = bin(N)[2:]\n",
    "    binary_gap_lengths = []\n",
    "    gap_count = 0\n",
    "    \n",
    "    for i in binary:\n",
    "        if i == '0':\n",
    "            gap_count += 1\n",
    "        if gap_count > 0 and i == '1':\n",
    "            binary_gap_lengths.append(gap_count)\n",
    "            gap_count = 0\n",
    "    \n",
    "    if not binary_gap_lengths:\n",
    "        return 0\n",
    "    else:\n",
    "        return max(binary_gap_lengths)"
   ]
  },
  {
   "cell_type": "code",
   "execution_count": null,
   "metadata": {},
   "outputs": [],
   "source": [
    "# 2 Odd occurances in array\n",
    "\n",
    "def solution(A):\n",
    "    result = 0\n",
    "    for i in A:\n",
    "        result ^= i\n",
    "    return result"
   ]
  },
  {
   "cell_type": "code",
   "execution_count": null,
   "metadata": {},
   "outputs": [],
   "source": [
    "# 2 Cyclic rotation\n",
    "\n",
    "def solution(A, K):\n",
    "    if len(A) == 0:\n",
    "        return A\n",
    "    else:\n",
    "        K %= len(A)\n",
    "        return A[-K:] + A[:-K]"
   ]
  },
  {
   "cell_type": "code",
   "execution_count": null,
   "metadata": {},
   "outputs": [],
   "source": [
    "# 3 Tape equilibrium\n",
    "\n",
    "def solution(A):\n",
    "    left_sum = A[0]\n",
    "    right_sum = sum(A[1:])\n",
    "    difference_list = []\n",
    "    \n",
    "    for P in range(1, len(A)):\n",
    "        abs_difference = abs(left_sum - right_sum)\n",
    "        difference_list.append(int(abs_difference))\n",
    "        left_sum += A[P]\n",
    "        right_sum -= A[P]\n",
    "        \n",
    "    return min(difference_list)"
   ]
  },
  {
   "cell_type": "code",
   "execution_count": null,
   "metadata": {},
   "outputs": [],
   "source": [
    "# 3 Frog jump\n",
    "\n",
    "def solution(X, Y, D):\n",
    "    jumps = math.ceil((Y - X) / (D * 1.00))\n",
    "    return int(jumps)"
   ]
  },
  {
   "cell_type": "code",
   "execution_count": null,
   "metadata": {},
   "outputs": [],
   "source": [
    "# 3 Perm missing elem\n",
    "\n",
    "def solution(A):\n",
    "    N = len(A)\n",
    "    total_N = int(0.5 * (N + 1) * (N + 2))\n",
    "    return total_N - sum(A)"
   ]
  },
  {
   "cell_type": "code",
   "execution_count": null,
   "metadata": {},
   "outputs": [],
   "source": [
    "# 4 Frog river one\n",
    "\n",
    "def solution(X, A):\n",
    "    N = len(A)\n",
    "    time = -1\n",
    "    l = set()\n",
    "    \n",
    "    if len(set(A)) != X:\n",
    "        time = -1\n",
    "    else:\n",
    "        for i in range(len(A)):\n",
    "            if len(l) == X:\n",
    "                return time\n",
    "                break\n",
    "            else:\n",
    "                time += 1\n",
    "                l.add(A[i])\n",
    "    return time"
   ]
  },
  {
   "cell_type": "code",
   "execution_count": null,
   "metadata": {},
   "outputs": [],
   "source": [
    "# 4 Perm check\n",
    "\n",
    "def solution(A):\n",
    "    if len(A) == len(set(A)) and len(A) == max(A):\n",
    "        return 1\n",
    "    else:\n",
    "        return 0"
   ]
  },
  {
   "cell_type": "code",
   "execution_count": null,
   "metadata": {},
   "outputs": [],
   "source": [
    "# 5 Passing car\n",
    "\n",
    "def solution(A):\n",
    "    count = 0\n",
    "    multiply = 0\n",
    "    \n",
    "    for car in A:\n",
    "        if car == 0:\n",
    "            multiply += 1\n",
    "        if multiply > 0:\n",
    "            if car == 1:\n",
    "                count += multiply\n",
    "                if count > 1000000000:\n",
    "                    return -1\n",
    "    return count"
   ]
  },
  {
   "cell_type": "code",
   "execution_count": null,
   "metadata": {},
   "outputs": [],
   "source": [
    "# 5 Count div\n",
    "\n",
    "def solution(A, B, K):\n",
    "    if B < A or K <= 0:\n",
    "        raise Exception(\"Invalid Input\")\n",
    "        \n",
    "    min_value = ((A + K - 1) // K) * K\n",
    "    \n",
    "    if min_value > B:\n",
    "        return 0\n",
    "    \n",
    "    return ((B - min_value) // K) + 1"
   ]
  },
  {
   "cell_type": "code",
   "execution_count": null,
   "metadata": {},
   "outputs": [],
   "source": [
    "# 5 Min avg two slice\n",
    "\n",
    "def solution(A):\n",
    "    minAv = 10001\n",
    "    position = 0\n",
    "    \n",
    "    for i in range(len(A)-1):\n",
    "        \n",
    "        if 0.5 * (A[i] + A[i + 1]) < minAv:\n",
    "            minAv = 0.5 * (A[i] + A[i + 1])\n",
    "            position = i\n",
    "            \n",
    "        if i < len(A) - 2 and (A[i] + A[i+1] + A[i+2]) / 3.0 < minAv:\n",
    "            minAv = (A[i] + A[i+1] + A[i+2]) / 3.0\n",
    "            position = i\n",
    "            \n",
    "    return int(position)"
   ]
  },
  {
   "cell_type": "code",
   "execution_count": null,
   "metadata": {},
   "outputs": [],
   "source": [
    "# 6 Distinct\n",
    "\n",
    "def solution(A):\n",
    "    return len(set(A))"
   ]
  },
  {
   "cell_type": "code",
   "execution_count": null,
   "metadata": {},
   "outputs": [],
   "source": [
    "# 6 Max product of three\n",
    "\n",
    "def solution(A):\n",
    "    A.sort()\n",
    "    return max(A[-1] * A[-2] * A[-3], A[0] * A[1] * A[-1])"
   ]
  },
  {
   "cell_type": "code",
   "execution_count": null,
   "metadata": {},
   "outputs": [],
   "source": [
    "# 6 Triangle\n",
    "\n",
    "def solution(A):\n",
    "    A.sort()\n",
    "    \n",
    "    for i in range(len(A)-2):\n",
    "        if A[i] + A[i+1] > A[i+2]:\n",
    "            return 1\n",
    "    \n",
    "    return 0"
   ]
  }
 ],
 "metadata": {
  "kernelspec": {
   "display_name": "Python 3",
   "language": "python",
   "name": "python3"
  },
  "language_info": {
   "codemirror_mode": {
    "name": "ipython",
    "version": 3
   },
   "file_extension": ".py",
   "mimetype": "text/x-python",
   "name": "python",
   "nbconvert_exporter": "python",
   "pygments_lexer": "ipython3",
   "version": "3.7.3"
  }
 },
 "nbformat": 4,
 "nbformat_minor": 2
}
