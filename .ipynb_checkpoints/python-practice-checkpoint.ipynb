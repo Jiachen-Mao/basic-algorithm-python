{
 "cells": [
  {
   "cell_type": "code",
   "execution_count": 1,
   "metadata": {},
   "outputs": [],
   "source": [
    "# Lists\n",
    "\n",
    "def handler(result):\n",
    "    inp = input().split()\n",
    "    command = inp[0]\n",
    "    values = inp[1:]\n",
    "    \n",
    "    if command == 'print':\n",
    "        print(result)\n",
    "    else:\n",
    "        execute = 'result.' + command + \"(\" + \",\".join(value) + \")\"\n",
    "        eval(execute)"
   ]
  },
  {
   "cell_type": "code",
   "execution_count": 2,
   "metadata": {},
   "outputs": [
    {
     "name": "stdout",
     "output_type": "stream",
     "text": [
      "5\n",
      "12\n",
      "3430014387543\n"
     ]
    }
   ],
   "source": [
    "# Tuples\n",
    "\n",
    "n = int(input())\n",
    "\n",
    "print(hash(tuple(map(int, input().split()))))"
   ]
  },
  {
   "cell_type": "code",
   "execution_count": 3,
   "metadata": {},
   "outputs": [],
   "source": [
    "# sWAP cASE\n",
    "\n",
    "def swap_case(s):\n",
    "    return s.swapcase()"
   ]
  },
  {
   "cell_type": "code",
   "execution_count": 4,
   "metadata": {},
   "outputs": [],
   "source": [
    "# String split and join\n",
    "\n",
    "def split_andjoin(line):\n",
    "    return \"-\".join(line.split())"
   ]
  },
  {
   "cell_type": "code",
   "execution_count": 5,
   "metadata": {},
   "outputs": [],
   "source": [
    "# What's your name\n",
    "\n",
    "def print_full_name(first_name, last_name):\n",
    "    print(\"Hello {} {}!\".format(first_name, last_name))"
   ]
  },
  {
   "cell_type": "code",
   "execution_count": 6,
   "metadata": {},
   "outputs": [],
   "source": [
    "# Mutations\n",
    "\n",
    "def mutate_string(string, position, character):\n",
    "    return string[:position] + character + string[postion+1:]"
   ]
  },
  {
   "cell_type": "code",
   "execution_count": 7,
   "metadata": {},
   "outputs": [],
   "source": [
    "# Find a string\n",
    "\n",
    "def count_substring(string, sub_string):\n",
    "    count = 0\n",
    "    for i in range(len(string) - len(sub_string) + 1):\n",
    "        if string[i: i+len(sub_string)] == sub_string:\n",
    "            count += 1\n",
    "            \n",
    "    return count"
   ]
  },
  {
   "cell_type": "code",
   "execution_count": 8,
   "metadata": {},
   "outputs": [
    {
     "name": "stdout",
     "output_type": "stream",
     "text": [
      "aD7\n",
      "True\n",
      "True\n",
      "True\n",
      "True\n",
      "True\n"
     ]
    }
   ],
   "source": [
    "# String validators\n",
    "\n",
    "s = input()\n",
    "print(any([char.isalnum() for char in s]))\n",
    "print(any([char.isalpha() for char in s]))\n",
    "print(any([char.isdigit() for char in s]))\n",
    "print(any([char.islower() for char in s]))\n",
    "print(any([char.isupper() for char in s]))"
   ]
  },
  {
   "cell_type": "code",
   "execution_count": 10,
   "metadata": {},
   "outputs": [
    {
     "name": "stdout",
     "output_type": "stream",
     "text": [
      "4\n",
      "   H   \n",
      "  HHH  \n",
      " HHHHH \n",
      "HHHHHHH\n",
      "  HHHH            HHHH          \n",
      "  HHHH            HHHH          \n",
      "  HHHH            HHHH          \n",
      "  HHHH            HHHH          \n",
      "  HHHH            HHHH          \n",
      "  HHHHHHHHHHHHHHHHHHHH  \n",
      "  HHHHHHHHHHHHHHHHHHHH  \n",
      "  HHHH            HHHH          \n",
      "  HHHH            HHHH          \n",
      "  HHHH            HHHH          \n",
      "  HHHH            HHHH          \n",
      "  HHHH            HHHH          \n",
      "                HHHHHHH \n",
      "                 HHHHH  \n",
      "                  HHH   \n",
      "                   H    \n"
     ]
    }
   ],
   "source": [
    "# Text alignment\n",
    "\n",
    "thickness = int(input())\n",
    "c = 'H'\n",
    "\n",
    "for i in range(thickness):\n",
    "    print((c*i).rjust(thickness-1) + c + (c*i).ljust(thickness-1))\n",
    "    \n",
    "for i in range(thickness + 1):\n",
    "    print((c*thickness).center(thickness*2) + (c*thickness).center(thickness*6))\n",
    "    \n",
    "for i in range((thickness+1)//2):\n",
    "    print((c*thickness*5).center(thickness*6))\n",
    "    \n",
    "for i in range(thickness+1):\n",
    "    print((c*thickness).center(thickness*2) + (c*thickness).center(thickness*6))\n",
    "    \n",
    "for i in range(thickness):\n",
    "    print(((c*(thickness-i-1)).rjust(thickness) + c + (c*(thickness-i-1)).ljust(thickness)).rjust(thickness*6))"
   ]
  },
  {
   "cell_type": "code",
   "execution_count": 11,
   "metadata": {},
   "outputs": [],
   "source": [
    "# Text wrap\n",
    "\n",
    "def wrap(string, max_width):\n",
    "    return textwrap.fill(string, max_width)"
   ]
  },
  {
   "cell_type": "code",
   "execution_count": 14,
   "metadata": {},
   "outputs": [
    {
     "name": "stdout",
     "output_type": "stream",
     "text": [
      "5 15\n",
      "------.|.------\n",
      "---.|..|..|.---\n",
      "----WELCOME----\n",
      "---.|..|..|.---\n",
      "------.|.------\n"
     ]
    }
   ],
   "source": [
    "# Designer door wrap\n",
    "\n",
    "height, length = map(int, input().split())\n",
    "\n",
    "for i in range(0, height//2):\n",
    "    s = '.|.' * (i*2 + 1)\n",
    "    print(s.center(length, '-'))\n",
    "\n",
    "print('WELCOME'.center(length, '-'))\n",
    "\n",
    "for i in range(height//2 - 1, -1, -1):\n",
    "    s = '.|.' * (i*2 + 1)\n",
    "    print(s.center(length, '-'))"
   ]
  },
  {
   "cell_type": "code",
   "execution_count": 15,
   "metadata": {},
   "outputs": [],
   "source": [
    "# String formatting\n",
    "\n",
    "def print_formatted(number):\n",
    "    width = len(\"{0:b}\".format(number))\n",
    "    for i in range(1, number + 1):\n",
    "        print(\"{0:{width}d} {0:{width}o} {0:{width}X} {0:{width}b}\".format(i, width = width))"
   ]
  },
  {
   "cell_type": "code",
   "execution_count": 16,
   "metadata": {},
   "outputs": [
    {
     "name": "stdout",
     "output_type": "stream",
     "text": [
      "chris alan\n",
      "Chris Alan\n"
     ]
    }
   ],
   "source": [
    "# Capitalize\n",
    "\n",
    "st = input()\n",
    "\n",
    "print(' '.join(word.capitalize() for word in st.split(' ')))"
   ]
  },
  {
   "cell_type": "code",
   "execution_count": 17,
   "metadata": {},
   "outputs": [],
   "source": [
    "# Introduction to sets\n",
    "\n",
    "def average(array):\n",
    "    return sum(set(array)) / len(set(array))"
   ]
  },
  {
   "cell_type": "code",
   "execution_count": 18,
   "metadata": {},
   "outputs": [
    {
     "name": "stdout",
     "output_type": "stream",
     "text": [
      "3 2\n",
      "1 5 3\n",
      "3 1\n",
      "5 7\n",
      "1\n"
     ]
    }
   ],
   "source": [
    "# No idea\n",
    "\n",
    "_ = input()\n",
    "array = input().split()\n",
    "like = set(input().split())\n",
    "dislike = set(input().split())\n",
    "\n",
    "print(sum((i in like) - (i in dislike) for i in array))"
   ]
  },
  {
   "cell_type": "code",
   "execution_count": 20,
   "metadata": {},
   "outputs": [
    {
     "name": "stdout",
     "output_type": "stream",
     "text": [
      "4\n",
      "2 4 5 9\n",
      "4\n",
      "2 4 11 12\n",
      "5\n",
      "9\n",
      "11\n",
      "12\n"
     ]
    }
   ],
   "source": [
    "# Symmetric difference\n",
    "\n",
    "i, m = input(), set(map(int, input().split()))\n",
    "i, n = input(), set(map(int, input().split()))\n",
    "\n",
    "print(*sorted(m.symmetric_difference(n)), sep = '\\n')"
   ]
  },
  {
   "cell_type": "code",
   "execution_count": 21,
   "metadata": {},
   "outputs": [
    {
     "name": "stdout",
     "output_type": "stream",
     "text": [
      "5\n",
      "UK\n",
      "CN\n",
      "USA\n",
      "UK\n",
      "FR\n",
      "4\n"
     ]
    }
   ],
   "source": [
    "# Set add()\n",
    "\n",
    "print(len(set(input() for i in range(int(input())))))"
   ]
  },
  {
   "cell_type": "code",
   "execution_count": 23,
   "metadata": {},
   "outputs": [
    {
     "name": "stdout",
     "output_type": "stream",
     "text": [
      "9\n",
      "1 2 3 4 5\n",
      "3\n",
      "pop\n",
      "remove 2\n",
      "discard 5\n",
      "7\n"
     ]
    }
   ],
   "source": [
    "# Set discard(), remove(), and pop()\n",
    "\n",
    "n = int(input())\n",
    "s = set(map(int, input().split()))\n",
    "\n",
    "for i in range(int(input())):\n",
    "    string = input().split()\n",
    "    \n",
    "    if string[0] == 'pop':\n",
    "        s.pop()\n",
    "    \n",
    "    elif string[0] == 'remove':\n",
    "        s.remove(int(string[1]))\n",
    "        \n",
    "    elif string[0] == 'discard':\n",
    "        s.discard(int(string[1]))\n",
    "    \n",
    "print(sum(s))"
   ]
  },
  {
   "cell_type": "code",
   "execution_count": 24,
   "metadata": {},
   "outputs": [
    {
     "name": "stdout",
     "output_type": "stream",
     "text": [
      "9\n",
      "1 2 3 4 5 6 7 8 9\n",
      "9\n",
      "10 1 2 3 11 21 55 6 8\n",
      "13\n"
     ]
    }
   ],
   "source": [
    "# Set union()\n",
    "\n",
    "_, a = input(), set(input().split())\n",
    "_, b = input(), set(input().split())\n",
    "\n",
    "print(len(a.union(b)))"
   ]
  },
  {
   "cell_type": "code",
   "execution_count": 25,
   "metadata": {},
   "outputs": [
    {
     "name": "stdout",
     "output_type": "stream",
     "text": [
      "9\n",
      "1 2 3 4 5 6 7 8 9\n",
      "9\n",
      "10 1 2 3 11 21 55 6 8\n",
      "5\n"
     ]
    }
   ],
   "source": [
    "# Set intersection()\n",
    "\n",
    "_, a = input(), set(input().split())\n",
    "_, b = input(), set(input().split())\n",
    "\n",
    "print(len(a.intersection(b)))"
   ]
  },
  {
   "cell_type": "code",
   "execution_count": 26,
   "metadata": {},
   "outputs": [
    {
     "name": "stdout",
     "output_type": "stream",
     "text": [
      "9\n",
      "1 2 3 4 5 6 7 8 9\n",
      "9\n",
      "10 1 2 3 11 21 55 6 8\n",
      "4\n"
     ]
    }
   ],
   "source": [
    "# Set difference()\n",
    "\n",
    "_, a = input(), set(input().split())\n",
    "_, b = input(), set(input().split())\n",
    "\n",
    "print(len(a.difference(b)))"
   ]
  },
  {
   "cell_type": "code",
   "execution_count": 27,
   "metadata": {},
   "outputs": [
    {
     "name": "stdout",
     "output_type": "stream",
     "text": [
      "9\n",
      "1 2 3 4 5 6 7 8 9\n",
      "9\n",
      "10 1 2 3 11 21 55 6 8\n",
      "8\n"
     ]
    }
   ],
   "source": [
    "# Set symmetric_difference()\n",
    "\n",
    "_, a = input(), set(input().split())\n",
    "_, b = input(), set(input().split())\n",
    "\n",
    "print(len(a.symmetric_difference(b)))"
   ]
  },
  {
   "cell_type": "code",
   "execution_count": 28,
   "metadata": {},
   "outputs": [],
   "source": [
    "# Set mutation\n",
    "\n",
    "def handler(a):\n",
    "    command = input().split()[0]\n",
    "    new_set = set(map(int, input().split()))\n",
    "    \n",
    "    if command == 'intersection_update':\n",
    "        a.intersection_update(new_set)\n",
    "        \n",
    "    if command == 'update':\n",
    "        a.update(new_set)\n",
    "        \n",
    "    if command == 'symmetric_difference_update':\n",
    "        a.symmetric_difference_update(new_set)\n",
    "        \n",
    "    if command == 'difference_update':\n",
    "        a.difference_update(new_set)"
   ]
  },
  {
   "cell_type": "code",
   "execution_count": 30,
   "metadata": {},
   "outputs": [
    {
     "name": "stdout",
     "output_type": "stream",
     "text": [
      "5\n",
      "1 2 3 6 5 4 4 2 5 3 6 1 6 5 3 2 4 1 2 5 1 4 3 6 8 4 3 1 5 6 2\n",
      "8\n"
     ]
    }
   ],
   "source": [
    "# Captain's room\n",
    "\n",
    "k = int(input())\n",
    "room_number_list = list(map(int, input().split()))\n",
    "captain_room_number = (sum(set(room_number_list))*k - sum(room_number_list)) // (k-1)\n",
    "print(captain_room_number)"
   ]
  },
  {
   "cell_type": "code",
   "execution_count": 31,
   "metadata": {},
   "outputs": [
    {
     "name": "stdout",
     "output_type": "stream",
     "text": [
      "2\n",
      "5\n",
      "1 2 3 5 6\n",
      "9\n",
      "9 8 5 6 3 2 1 4 7\n",
      "True\n",
      "1\n",
      "2\n",
      "5\n",
      "3 6 5 4 1\n",
      "False\n"
     ]
    }
   ],
   "source": [
    "# Check subset\n",
    "\n",
    "for i in range(int(input())):\n",
    "    _, a = input(), set(map(int, input().split()))\n",
    "    _, b = input(), set(map(int, input().split()))\n",
    "    print(a.issubset(b))"
   ]
  },
  {
   "cell_type": "code",
   "execution_count": 32,
   "metadata": {},
   "outputs": [
    {
     "name": "stdout",
     "output_type": "stream",
     "text": [
      "1 2 3 4 5 6 7 8 9 10 11 12 23 45 84 78\n",
      "2\n",
      "1 2 3 4 5\n",
      "100 11 12\n",
      "False\n"
     ]
    }
   ],
   "source": [
    "# Strict superset\n",
    "\n",
    "a = set(input().split())\n",
    "\n",
    "print(all(a > set(input().split()) for _ in range(int(input()))))"
   ]
  },
  {
   "cell_type": "code",
   "execution_count": 33,
   "metadata": {},
   "outputs": [
    {
     "name": "stdout",
     "output_type": "stream",
     "text": [
      "1 2\n",
      "3 4\n",
      "(1, 3) (1, 4) (2, 3) (2, 4)\n"
     ]
    }
   ],
   "source": [
    "# Itertoolsproduct()\n",
    "\n",
    "from itertools import product\n",
    "\n",
    "a = list(map(int, input().split()))\n",
    "b = list(map(int, input().split()))\n",
    "\n",
    "print(*list(product(a, b)))"
   ]
  },
  {
   "cell_type": "code",
   "execution_count": 34,
   "metadata": {},
   "outputs": [
    {
     "name": "stdout",
     "output_type": "stream",
     "text": [
      "HACK 2\n",
      "A\n",
      "C\n",
      "H\n",
      "K\n",
      "AC\n",
      "AH\n",
      "AK\n",
      "CH\n",
      "CK\n",
      "HK\n"
     ]
    }
   ],
   "source": [
    "# Itertoolcominations()\n",
    "\n",
    "import itertools\n",
    "\n",
    "s = input().split()\n",
    "string, number = sorted(s[0]), int(s[1])\n",
    "\n",
    "for i in range(1, number + 1):\n",
    "    print(*list(map(''.join, itertools.combinations(string, i))), sep = '\\n')"
   ]
  },
  {
   "cell_type": "code",
   "execution_count": 35,
   "metadata": {},
   "outputs": [
    {
     "name": "stdout",
     "output_type": "stream",
     "text": [
      "HACK 2\n",
      "AC\n",
      "AH\n",
      "AK\n",
      "CA\n",
      "CH\n",
      "CK\n",
      "HA\n",
      "HC\n",
      "HK\n",
      "KA\n",
      "KC\n",
      "KH\n"
     ]
    }
   ],
   "source": [
    "# Itertools.permutations()\n",
    "\n",
    "import itertools\n",
    "\n",
    "s = input().split()\n",
    "string, number = sorted(s[0]), int(s[1])\n",
    "\n",
    "print(*list(map(''.join, itertools.permutations(string, number))), sep = '\\n')"
   ]
  },
  {
   "cell_type": "code",
   "execution_count": 36,
   "metadata": {},
   "outputs": [
    {
     "name": "stdout",
     "output_type": "stream",
     "text": [
      "HACK 2\n",
      "AA\n",
      "AC\n",
      "AH\n",
      "AK\n",
      "CC\n",
      "CH\n",
      "CK\n",
      "HH\n",
      "HK\n",
      "KK\n"
     ]
    }
   ],
   "source": [
    "# Itertools.combinations_with_replacement()\n",
    "\n",
    "import itertools\n",
    "\n",
    "s = input().split()\n",
    "string, number = sorted(s[0]), int(s[1])\n",
    "print(*list(map(''.join, itertools.combinations_with_replacement(string, number))), sep='\\n')"
   ]
  },
  {
   "cell_type": "code",
   "execution_count": 37,
   "metadata": {},
   "outputs": [
    {
     "name": "stdout",
     "output_type": "stream",
     "text": [
      "1222311\n",
      "(1, 1) (3, 2) (1, 3) (2, 1)\n"
     ]
    }
   ],
   "source": [
    "# Compress the string\n",
    "\n",
    "from itertools import groupby\n",
    "\n",
    "print(*[(len(list(c)), int(x)) for x, c in groupby(input())])"
   ]
  },
  {
   "cell_type": "code",
   "execution_count": 38,
   "metadata": {},
   "outputs": [
    {
     "name": "stdout",
     "output_type": "stream",
     "text": [
      "4\n",
      "a a c d\n",
      "2\n",
      "0.8333333333333334\n"
     ]
    }
   ],
   "source": [
    "# Iterables and Iterators\n",
    "\n",
    "n, number, k = int(input()), input().split().count('a'), int(input())\n",
    "not_a = 1\n",
    "\n",
    "for i in range(k):\n",
    "    not_a = not_a * (n - number - i) / (n - i)\n",
    "    \n",
    "print(1 - not_a)"
   ]
  },
  {
   "cell_type": "code",
   "execution_count": 39,
   "metadata": {},
   "outputs": [
    {
     "name": "stdout",
     "output_type": "stream",
     "text": [
      "3 1000\n",
      "2 5 4\n",
      "3 7 8 9\n",
      "5 5 7 8 9 10\n",
      "206\n"
     ]
    }
   ],
   "source": [
    "# Maximize it\n",
    "\n",
    "from itertools import product\n",
    "\n",
    "k, m = map(int, input().split())\n",
    "n = (list(map(int, input().split()))[1:] for _ in range(k))\n",
    "results = (sum(i**2 for i in x) % m for x in product(*n))\n",
    "print(max(results))"
   ]
  },
  {
   "cell_type": "code",
   "execution_count": 40,
   "metadata": {},
   "outputs": [
    {
     "name": "stdout",
     "output_type": "stream",
     "text": [
      "10\n",
      "2 3 4 5 6 8 7 6 5 18\n",
      "6\n",
      "6 55\n",
      "6 45\n",
      "6 55\n",
      "4 40\n",
      "18 60\n",
      "10 50\n",
      "200\n"
     ]
    }
   ],
   "source": [
    "# collectionsCounter()\n",
    "\n",
    "import collections\n",
    "\n",
    "number_of_shoes = int(input())\n",
    "sizes_in_stock = collections.Counter(map(int, input().split()))\n",
    "\n",
    "total_revenue = 0\n",
    "\n",
    "for _ in range(int(input())):\n",
    "    size, price = map(int, input().split())\n",
    "    \n",
    "    if sizes_in_stock[size]:\n",
    "        total_revenue += price\n",
    "        sizes_in_stock[size] -= 1\n",
    "        \n",
    "print(total_revenue)"
   ]
  },
  {
   "cell_type": "code",
   "execution_count": 43,
   "metadata": {},
   "outputs": [
    {
     "name": "stdout",
     "output_type": "stream",
     "text": [
      "5 2\n",
      "a\n",
      "a\n",
      "b\n",
      "a\n",
      "b\n",
      "a\n",
      "1 2 4\n",
      "b\n",
      "3 5\n"
     ]
    }
   ],
   "source": [
    "# DefaultDict\n",
    "\n",
    "from collections import defaultdict\n",
    "\n",
    "n, m = map(int, input().split())\n",
    "d = defaultdict(list)\n",
    "\n",
    "for i in range(1, n+1):\n",
    "    d[input()].append(str(i))\n",
    "\n",
    "for i in range(m):\n",
    "    print(' '.join(d[input()]) or -1)"
   ]
  },
  {
   "cell_type": "code",
   "execution_count": 46,
   "metadata": {},
   "outputs": [
    {
     "name": "stdout",
     "output_type": "stream",
     "text": [
      "5\n",
      "ID MARKS NAME CLASS\n",
      "1 97 ray 7\n",
      "2 50 steven 4\n",
      "3 91 adrian 9\n",
      "4 72 stewart 5\n",
      "5 80 peter 6\n",
      "78.00\n"
     ]
    }
   ],
   "source": [
    "# namedtuple()\n",
    "\n",
    "from collections import namedtuple\n",
    "\n",
    "n, Student = int(input()), namedtuple('Student', input())\n",
    "\n",
    "print(\"{:.2f}\".format(sum([int(Student(*input().split()).MARKS) for _ in range(n)]) / n))"
   ]
  },
  {
   "cell_type": "code",
   "execution_count": 48,
   "metadata": {},
   "outputs": [
    {
     "name": "stdout",
     "output_type": "stream",
     "text": [
      "9\n",
      "banana 12\n",
      "potato 30\n",
      "apple 10\n",
      "candy 5\n",
      "apple 10\n",
      "candy 5\n",
      "candy 5\n",
      "candy 6\n",
      "potato 30\n",
      "banana 24\n",
      "potato 90\n",
      "apple 30\n",
      "candy 27\n"
     ]
    },
    {
     "data": {
      "text/plain": [
       "[None, None, None, None]"
      ]
     },
     "execution_count": 48,
     "metadata": {},
     "output_type": "execute_result"
    }
   ],
   "source": [
    "from collections import OrderedDict\n",
    "\n",
    "order_dictionary = OrderedDict()\n",
    "\n",
    "for _ in range(int(input())):\n",
    "    item, price = input().rsplit(' ', 1)\n",
    "    order_dictionary[item] = ordered_dictionary.get(item, 0) + int(price)\n",
    "    \n",
    "[print(item, order_dictionary[item]) for item in order_dictionary]"
   ]
  },
  {
   "cell_type": "code",
   "execution_count": 49,
   "metadata": {},
   "outputs": [
    {
     "name": "stdout",
     "output_type": "stream",
     "text": [
      "4\n",
      "bcdef\n",
      "abcdefg\n",
      "bcde\n",
      "bcdef\n",
      "3\n",
      "2 1 1\n"
     ]
    }
   ],
   "source": [
    "# Word order\n",
    "\n",
    "from collections import Counter, OrderedDict\n",
    "\n",
    "class OrderedCounter(Counter, OrderedDict):\n",
    "    pass\n",
    "\n",
    "ordered_counter = OrderedCounter(input() for _ in range(int(input())))\n",
    "print(len(ordered_counter))\n",
    "print(*ordered_counter.values())"
   ]
  },
  {
   "cell_type": "code",
   "execution_count": 50,
   "metadata": {},
   "outputs": [
    {
     "name": "stdout",
     "output_type": "stream",
     "text": [
      "6\n",
      "append 1\n",
      "append 2\n",
      "append 3\n",
      "append left 4\n",
      "pop\n",
      "popleft\n",
      "2 3\n"
     ]
    }
   ],
   "source": [
    "# deque()\n",
    "\n",
    "from collections import deque\n",
    "\n",
    "d = deque()\n",
    "\n",
    "for _ in range(int(input())):\n",
    "    line = input().split()\n",
    "    \n",
    "    if line[0] == 'append':\n",
    "        d.append(line[1])\n",
    "        \n",
    "    elif line[0] == 'pop':\n",
    "        d.pop()\n",
    "        \n",
    "    elif line[0] == 'popleft':\n",
    "        d.popleft()\n",
    "        \n",
    "    elif line[0] == 'appendleft':\n",
    "        d.qppendleft(line[1])\n",
    "        \n",
    "print(*d)"
   ]
  },
  {
   "cell_type": "code",
   "execution_count": 52,
   "metadata": {},
   "outputs": [
    {
     "name": "stdout",
     "output_type": "stream",
     "text": [
      "2\n",
      "6\n",
      "4\n",
      "Yes\n",
      "3\n",
      "1 3 2\n",
      "No\n"
     ]
    }
   ],
   "source": [
    "# piling up\n",
    "\n",
    "from collections import deque\n",
    "\n",
    "for i in range(int(input())):\n",
    "    _, n = input(), deque(map(int, input().split()))\n",
    "    ans = True\n",
    "    \n",
    "    for j in range(len(n) - 1):\n",
    "        if n[0] >= n[1]:\n",
    "            n.popleft()\n",
    "            \n",
    "        elif n[-1] >= n[-2]:\n",
    "            n.pop()\n",
    "            \n",
    "        else:\n",
    "            ans = False\n",
    "            break\n",
    "            \n",
    "    print('Yes' if ans else 'No')"
   ]
  },
  {
   "cell_type": "code",
   "execution_count": 53,
   "metadata": {},
   "outputs": [
    {
     "name": "stdout",
     "output_type": "stream",
     "text": [
      "08 05 2015\n",
      "WEDNESDAY\n"
     ]
    }
   ],
   "source": [
    "# Calendar module\n",
    "\n",
    "import calendar\n",
    "\n",
    "m, d, y = map(int, input().split())\n",
    "print(calendar.day_name[calendar.weekday(y, m, d)].upper())"
   ]
  },
  {
   "cell_type": "code",
   "execution_count": 1,
   "metadata": {},
   "outputs": [
    {
     "name": "stdout",
     "output_type": "stream",
     "text": [
      "1\n",
      "Sun 10 May 2015 13:54:36 -0700\n",
      "Sun 10 May 2015 13:54:36 -0000\n",
      "25200\n"
     ]
    }
   ],
   "source": [
    "# Time delta\n",
    "\n",
    "from datetime import datetime as dt\n",
    "\n",
    "fmt = '%a %d %b %Y %H:%M:%S %z'\n",
    "\n",
    "for _ in range(int(input())):\n",
    "    time1 = dt.strptime(input(), fmt)\n",
    "    time2 = dt.strptime(input(), fmt)\n",
    "    \n",
    "    print(int(abs((time1 - time2).total_seconds())))"
   ]
  },
  {
   "cell_type": "code",
   "execution_count": 2,
   "metadata": {},
   "outputs": [
    {
     "name": "stdout",
     "output_type": "stream",
     "text": [
      "3\n",
      "1 0\n",
      "Error code: integer division or modulo by zero\n",
      "2 $\n",
      "Error code: invalid literal for int() with base 10: '$'\n",
      "3 1\n",
      "3\n"
     ]
    }
   ],
   "source": [
    "# Exceptions\n",
    "\n",
    "for _ in range(int(input())):\n",
    "    a, b = input().split()\n",
    "    \n",
    "    try:\n",
    "        print(int(a) // int(b))\n",
    "    except BaseException as err:\n",
    "        print(\"Error code:\", err)"
   ]
  },
  {
   "cell_type": "code",
   "execution_count": 3,
   "metadata": {},
   "outputs": [
    {
     "name": "stdout",
     "output_type": "stream",
     "text": [
      "2\n",
      ".*\\+\n",
      "True\n",
      ".*+\n",
      "False\n"
     ]
    }
   ],
   "source": [
    "# Incorrect regex\n",
    "\n",
    "import re\n",
    "\n",
    "for _ in range(int(input())):\n",
    "    try:\n",
    "        print(bool(re.compile(input())))\n",
    "    except re.error:\n",
    "        print('False')"
   ]
  },
  {
   "cell_type": "code",
   "execution_count": 4,
   "metadata": {},
   "outputs": [
    {
     "name": "stdout",
     "output_type": "stream",
     "text": [
      "1 2 3 4 -8 -10\n",
      "[-10.  -8.   4.   3.   2.   1.]\n"
     ]
    }
   ],
   "source": [
    "# Array\n",
    "\n",
    "import numpy\n",
    "\n",
    "def arrays(arr):\n",
    "    return numpy.array(arr[::-1], float)\n",
    "\n",
    "arr = input().strip().split(' ')\n",
    "result = arrays(arr)\n",
    "print(result)"
   ]
  },
  {
   "cell_type": "code",
   "execution_count": 5,
   "metadata": {},
   "outputs": [
    {
     "name": "stdout",
     "output_type": "stream",
     "text": [
      "1 2 3 4 5 6 7 8 9\n",
      "[[1 2 3]\n",
      " [4 5 6]\n",
      " [7 8 9]]\n"
     ]
    }
   ],
   "source": [
    "# Shape and reshape\n",
    "\n",
    "import numpy as np\n",
    "\n",
    "array = np.array(list(map(int, input().split())))\n",
    "print(array.reshape(3, 3))"
   ]
  },
  {
   "cell_type": "code",
   "execution_count": 4,
   "metadata": {},
   "outputs": [
    {
     "name": "stdout",
     "output_type": "stream",
     "text": [
      "4\n",
      "1 2 3 4\n",
      "4 3 2 1\n"
     ]
    }
   ],
   "source": [
    "def reverseArray(arr):\n",
    "    result = arr[::-1]\n",
    "    return result\n",
    "\n",
    "arrCount = int(input())\n",
    "arr = list(map(int, input().rstrip().split()))\n",
    "result = reverseArray(arr)\n",
    "print(*result)"
   ]
  },
  {
   "cell_type": "code",
   "execution_count": 5,
   "metadata": {},
   "outputs": [
    {
     "name": "stdout",
     "output_type": "stream",
     "text": [
      "9\n",
      "10 20 20 10 10 30 50 10 20\n",
      "3\n"
     ]
    }
   ],
   "source": [
    "# Sock merchant\n",
    "\n",
    "def sock_merchant(ar):\n",
    "    list_of_socks = [0 for i in range(101)]\n",
    "    \n",
    "    for element in ar:\n",
    "        list_of_socks[element] = list_of_socks[element] + 1\n",
    "        \n",
    "    ans = 0\n",
    "    \n",
    "    for sock in list_of_socks:\n",
    "        ans += sock // 2\n",
    "        \n",
    "    return ans\n",
    "\n",
    "n = int(input().strip())\n",
    "ar = list(map(int, input().strip().split(' ')))\n",
    "result = sock_merchant(ar)\n",
    "print(result)"
   ]
  },
  {
   "cell_type": "code",
   "execution_count": 7,
   "metadata": {},
   "outputs": [
    {
     "name": "stdout",
     "output_type": "stream",
     "text": [
      "8\n",
      "UDDDUDUU\n",
      "1\n"
     ]
    }
   ],
   "source": [
    "# Counting valleys\n",
    "\n",
    "def counting_valleys(n, s):\n",
    "    current_level = 0\n",
    "    count = 0\n",
    "    for i in range(n):\n",
    "        if s[i] == 'U':\n",
    "            current_level += 1\n",
    "        elif s[i] == 'D':\n",
    "            current_level -= 1\n",
    "            if current_level == -1:\n",
    "                count += 1\n",
    "    return count\n",
    "\n",
    "n = int(input().strip())\n",
    "s = input().strip()\n",
    "result = counting_valleys(n, s)\n",
    "print(result)"
   ]
  },
  {
   "cell_type": "code",
   "execution_count": 8,
   "metadata": {},
   "outputs": [
    {
     "name": "stdout",
     "output_type": "stream",
     "text": [
      "7\n",
      "0 0 1 0 0 1 0\n",
      "4\n"
     ]
    }
   ],
   "source": [
    "# Jumping on the clouds\n",
    "\n",
    "def jumping_on_clouds(n, c):\n",
    "    c.append(0)\n",
    "    ans = 0\n",
    "    position = 0\n",
    "    while position < n-1:\n",
    "        position += (c[position + 2] == 0) + 1\n",
    "        ans += 1\n",
    "    return ans\n",
    "\n",
    "n = int(input())\n",
    "c = list(map(int, input().rstrip().split()))\n",
    "print(jumping_on_clouds(n, c))"
   ]
  },
  {
   "cell_type": "code",
   "execution_count": 9,
   "metadata": {},
   "outputs": [
    {
     "name": "stdout",
     "output_type": "stream",
     "text": [
      "aba\n",
      "10\n",
      "7\n"
     ]
    }
   ],
   "source": [
    "# Repeated string\n",
    "\n",
    "def repeated_string(s, n):\n",
    "    return n // len(s) * s.count('a') + s[0: n%len(s)].count('a')\n",
    "\n",
    "s = input()\n",
    "n = int(input())\n",
    "print(repeated_string(s, n))"
   ]
  },
  {
   "cell_type": "code",
   "execution_count": 10,
   "metadata": {},
   "outputs": [
    {
     "name": "stdout",
     "output_type": "stream",
     "text": [
      "5 4\n",
      "1 2 3 4 5\n",
      "5 1 2 3 4\n"
     ]
    }
   ],
   "source": [
    "# Array - left rotation\n",
    "\n",
    "def array_left_rotation(a, k):\n",
    "    result = a[k:] + a[:k]\n",
    "    return result\n",
    "\n",
    "n, k = map(int, input().split())\n",
    "a = list(map(int, input().split()))\n",
    "print(*array_left_rotation(a, k))"
   ]
  },
  {
   "cell_type": "code",
   "execution_count": 12,
   "metadata": {},
   "outputs": [
    {
     "name": "stdout",
     "output_type": "stream",
     "text": [
      "1 1 1 0 0 0\n",
      "0 1 0 0 0 0\n",
      "1 1 1 0 0 0\n",
      "0 0 2 4 4 0\n",
      "0 0 0 2 0 0\n",
      "0 0 1 2 4 0\n",
      "19\n"
     ]
    }
   ],
   "source": [
    "# 2D array\n",
    "\n",
    "def hourglasses(arr, i, j):\n",
    "    return sum(arr[i][j:j+3]) + arr[i+1][j+1] + sum(arr[i+2][j:j+3])\n",
    "\n",
    "arr = []\n",
    "for i in range(6):\n",
    "    arr.append(list(map(int, input().split())))\n",
    "    \n",
    "ans = hourglasses(arr, 0, 0)\n",
    "\n",
    "for i in range(4):\n",
    "    for j in range(4):\n",
    "        ans = max(ans, hourglasses(arr, i, j))\n",
    "print(ans)"
   ]
  },
  {
   "cell_type": "code",
   "execution_count": 3,
   "metadata": {},
   "outputs": [
    {
     "name": "stdout",
     "output_type": "stream",
     "text": [
      "2 2\n",
      "1 2\n",
      "3 4\n",
      "[[1 3]\n",
      " [2 4]]\n",
      "[1 2 3 4]\n"
     ]
    }
   ],
   "source": [
    "# Transpose and flatten\n",
    "\n",
    "import numpy\n",
    "\n",
    "n, m = map(int, input().split())\n",
    "ar = []\n",
    "\n",
    "for i in range(n):\n",
    "    row = list(map(int, input().split()))\n",
    "    ar.append(row)\n",
    "\n",
    "np_ar = numpy.array(ar)\n",
    "print(numpy.transpose(np_ar))\n",
    "print(np_ar.flatten())"
   ]
  },
  {
   "cell_type": "code",
   "execution_count": 4,
   "metadata": {},
   "outputs": [
    {
     "name": "stdout",
     "output_type": "stream",
     "text": [
      "4 3 2\n",
      "1 2\n",
      "1 2\n",
      "1 2\n",
      "1 2\n",
      "3 4\n",
      "3 4\n",
      "3 4\n",
      "[[1 2]\n",
      " [1 2]\n",
      " [1 2]\n",
      " [1 2]\n",
      " [3 4]\n",
      " [3 4]\n",
      " [3 4]]\n"
     ]
    }
   ],
   "source": [
    "# Concatenate\n",
    "\n",
    "import numpy as np\n",
    "\n",
    "n, m, p = map(int, input().split())\n",
    "\n",
    "ar1 = []\n",
    "ar2 = []\n",
    "\n",
    "for i in range(n):\n",
    "    tmp = list(map(int, input().split()))\n",
    "    ar1.append(tmp)\n",
    "    \n",
    "for i in range(m):\n",
    "    tmp = list(map(int, input().split()))\n",
    "    ar2.append(tmp)\n",
    "    \n",
    "np_ar1 = np.array(ar1)\n",
    "np_ar2 = np.array(ar2)\n",
    "\n",
    "print(np.concatenate((np_ar1, np_ar2), axis = 0))"
   ]
  },
  {
   "cell_type": "code",
   "execution_count": 7,
   "metadata": {},
   "outputs": [
    {
     "name": "stdout",
     "output_type": "stream",
     "text": [
      "3 3\n",
      "[[0 0 0]\n",
      " [0 0 0]\n",
      " [0 0 0]]\n",
      "[[1 1 1]\n",
      " [1 1 1]\n",
      " [1 1 1]]\n"
     ]
    }
   ],
   "source": [
    "# Zeros and ones\n",
    "\n",
    "import numpy as np\n",
    "\n",
    "n_ar = list(map(int, input().split()))\n",
    "n = tuple(n_ar)\n",
    "\n",
    "print(np.zeros(n, dtype = np.int))\n",
    "print(np.ones(n, dtype = np.int))"
   ]
  },
  {
   "cell_type": "code",
   "execution_count": 8,
   "metadata": {},
   "outputs": [
    {
     "name": "stdout",
     "output_type": "stream",
     "text": [
      "3 2\n",
      "[[1. 0.]\n",
      " [0. 1.]\n",
      " [0. 0.]]\n"
     ]
    }
   ],
   "source": [
    "# Eye and identity\n",
    "\n",
    "import numpy as np\n",
    "\n",
    "n, m = map(int, input().split())\n",
    "print(np.eye(n, m, k = 0))"
   ]
  },
  {
   "cell_type": "code",
   "execution_count": 9,
   "metadata": {},
   "outputs": [
    {
     "name": "stdout",
     "output_type": "stream",
     "text": [
      "1 4\n",
      "1 2 3 4\n",
      "5 6 7 8\n",
      "[[ 6  8 10 12]]\n",
      "[[-4 -4 -4 -4]]\n",
      "[[ 5 12 21 32]]\n",
      "[[0 0 0 0]]\n",
      "[[1 2 3 4]]\n",
      "[[    1    64  2187 65536]]\n"
     ]
    }
   ],
   "source": [
    "# Array Mathematics\n",
    "\n",
    "import numpy as np\n",
    "\n",
    "n, m = map(int, input().split())\n",
    "ar1 = []\n",
    "ar2 = []\n",
    "\n",
    "for i in range(n):\n",
    "    tmp = list(map(int, input().split()))\n",
    "    ar1.append(tmp)\n",
    "    \n",
    "for i in range(n):\n",
    "    tmp = list(map(int, input().split()))\n",
    "    ar2.append(tmp)\n",
    "    \n",
    "np_ar1 = np.array(ar1)\n",
    "np_ar2 = np.array(ar2)\n",
    "\n",
    "print(np_ar1 + np_ar2)\n",
    "print(np_ar1 - np_ar2)\n",
    "print(np_ar1 * np_ar2)\n",
    "print(np_ar1 // np_ar2)\n",
    "print(np_ar1 % np_ar2)\n",
    "print(np_ar1 ** np_ar2)"
   ]
  },
  {
   "cell_type": "code",
   "execution_count": 10,
   "metadata": {},
   "outputs": [
    {
     "name": "stdout",
     "output_type": "stream",
     "text": [
      "1.1 2.2 3.3 4.4 5.5 6.6 7.7 8.8 9.9\n",
      "[1. 2. 3. 4. 5. 6. 7. 8. 9.]\n",
      "[ 2.  3.  4.  5.  6.  7.  8.  9. 10.]\n",
      "[ 1.  2.  3.  4.  6.  7.  8.  9. 10.]\n"
     ]
    }
   ],
   "source": [
    "# Floor, ceil, and rint\n",
    "\n",
    "import numpy as np\n",
    "\n",
    "np_ar = np.array(list(map(float, input().split())), float)\n",
    "\n",
    "print(np.floor(np_ar))\n",
    "print(np.ceil(np_ar))\n",
    "print(np.rint(np_ar))"
   ]
  },
  {
   "cell_type": "code",
   "execution_count": 11,
   "metadata": {},
   "outputs": [
    {
     "name": "stdout",
     "output_type": "stream",
     "text": [
      "2 2\n",
      "1 2\n",
      "3 4\n",
      "24\n"
     ]
    }
   ],
   "source": [
    "# Sum and Prod\n",
    "\n",
    "import numpy as np\n",
    "\n",
    "n, m = map(int, input().split())\n",
    "ar = []\n",
    "\n",
    "for i in range(n):\n",
    "    tmp = list(map(int, input().split()))\n",
    "    ar.append(tmp)\n",
    "    \n",
    "np_ar = np.array(ar)\n",
    "s = np.sum(np_ar, axis = 0)\n",
    "print(np.prod(s))"
   ]
  },
  {
   "cell_type": "code",
   "execution_count": 12,
   "metadata": {},
   "outputs": [
    {
     "name": "stdout",
     "output_type": "stream",
     "text": [
      "4 2\n",
      "2 5\n",
      "3 7\n",
      "1 3\n",
      "4 0\n",
      "3\n"
     ]
    }
   ],
   "source": [
    "# Min and Max\n",
    "\n",
    "import numpy as np\n",
    "\n",
    "n, m = map(int, input().split())\n",
    "ar = []\n",
    "\n",
    "for i in range(n):\n",
    "    tmp = list(map(int, input().split()))\n",
    "    ar.append(tmp)\n",
    "    \n",
    "np_ar = np.array(ar)\n",
    "print(np.max(np.min(np_ar, axis = 1)))"
   ]
  },
  {
   "cell_type": "code",
   "execution_count": 13,
   "metadata": {},
   "outputs": [
    {
     "name": "stdout",
     "output_type": "stream",
     "text": [
      "2 2\n",
      "1 2\n",
      "3 4\n",
      "[1.5 3.5]\n",
      "[1. 1.]\n",
      "1.118033988749895\n"
     ]
    }
   ],
   "source": [
    "# Mean, var, and std\n",
    "\n",
    "n, m = map(int, input().split())\n",
    "ar = []\n",
    "\n",
    "for i in range(n):\n",
    "    tmp = list(map(int, input().split()))\n",
    "    ar.append(tmp)\n",
    "    \n",
    "np_ar = np.array(ar)\n",
    "\n",
    "print(np.mean(np_ar, axis = 1))\n",
    "print(np.var(np_ar, axis = 0))\n",
    "print(np.std(np_ar))"
   ]
  },
  {
   "cell_type": "code",
   "execution_count": 14,
   "metadata": {},
   "outputs": [
    {
     "name": "stdout",
     "output_type": "stream",
     "text": [
      "2\n",
      "1 2\n",
      "3 4\n",
      "1 2\n",
      "3 4\n",
      "[[ 7 10]\n",
      " [15 22]]\n"
     ]
    }
   ],
   "source": [
    "# Dot and Cross\n",
    "\n",
    "import numpy as np\n",
    "\n",
    "n = int(input())\n",
    "ar1 = []\n",
    "ar2 = []\n",
    "\n",
    "for i in range(n):\n",
    "    tmp = list(map(int, input().split()))\n",
    "    ar1.append(tmp)\n",
    "    \n",
    "for i in range(n):\n",
    "    tmp = list(map(int, input().split()))\n",
    "    ar2.append(tmp)\n",
    "    \n",
    "np_ar1 = np.array(ar1)\n",
    "np_ar2 = np.array(ar2)\n",
    "\n",
    "print(np.dot(np_ar1, np_ar2))"
   ]
  },
  {
   "cell_type": "code",
   "execution_count": 15,
   "metadata": {},
   "outputs": [
    {
     "name": "stdout",
     "output_type": "stream",
     "text": [
      "0 1\n",
      "2 3\n",
      "3\n",
      "[[0 0]\n",
      " [2 3]]\n"
     ]
    }
   ],
   "source": [
    "# Inner and Outer\n",
    "\n",
    "import numpy\n",
    "\n",
    "np_ar1 = numpy.array(list(map(int,input().split())))\n",
    "np_ar2 = numpy.array(list(map(int,input().split())))\n",
    "\n",
    "print(numpy.inner(np_ar1, np_ar2))\n",
    "print(numpy.outer(np_ar1, np_ar2))"
   ]
  },
  {
   "cell_type": "code",
   "execution_count": 17,
   "metadata": {},
   "outputs": [
    {
     "name": "stdout",
     "output_type": "stream",
     "text": [
      "1 2 3\n",
      "1\n",
      "6.0\n"
     ]
    }
   ],
   "source": [
    "# Polynomial\n",
    "\n",
    "import numpy as np\n",
    "\n",
    "p = np.array(list(map(float, input().split())), float)\n",
    "x = float(input())\n",
    "\n",
    "print(np.polyval(p, x))"
   ]
  },
  {
   "cell_type": "code",
   "execution_count": 21,
   "metadata": {},
   "outputs": [
    {
     "name": "stdout",
     "output_type": "stream",
     "text": [
      "2\n",
      "1.1 1.1\n",
      "1.1 1.1\n",
      "0.0\n"
     ]
    }
   ],
   "source": [
    "# Linear Algebra\n",
    "\n",
    "import numpy as np\n",
    "\n",
    "n = int(input())\n",
    "ar = []\n",
    "\n",
    "for i in range(n):\n",
    "    tmp = list(map(float, input().split()))\n",
    "    ar.append(tmp)\n",
    "    \n",
    "np_ar = np.array(ar, float)\n",
    "print(round(np.linalg.det(np_ar), 2))"
   ]
  },
  {
   "cell_type": "code",
   "execution_count": 22,
   "metadata": {},
   "outputs": [],
   "source": [
    "# WordsScore\n",
    "\n",
    "def is_vowel(letter):\n",
    "    return letter in ['a', 'e', 'i', 'o', 'u', 'y']\n",
    "\n",
    "def score_words(words):\n",
    "    score = 0\n",
    "    for word in words:\n",
    "        num_vowels = 0\n",
    "        for letter in word:\n",
    "            if is_vowel(letter):\n",
    "                num_vowels += 1\n",
    "        if num_vowels % 2 == 0:\n",
    "            score += 2\n",
    "        else:\n",
    "            score += 1\n",
    "    return score"
   ]
  },
  {
   "cell_type": "code",
   "execution_count": null,
   "metadata": {},
   "outputs": [],
   "source": []
  }
 ],
 "metadata": {
  "kernelspec": {
   "display_name": "Python 3",
   "language": "python",
   "name": "python3"
  },
  "language_info": {
   "codemirror_mode": {
    "name": "ipython",
    "version": 3
   },
   "file_extension": ".py",
   "mimetype": "text/x-python",
   "name": "python",
   "nbconvert_exporter": "python",
   "pygments_lexer": "ipython3",
   "version": "3.7.3"
  }
 },
 "nbformat": 4,
 "nbformat_minor": 2
}
