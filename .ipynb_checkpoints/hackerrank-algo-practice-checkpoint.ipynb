{
 "cells": [
  {
   "cell_type": "markdown",
   "metadata": {},
   "source": [
    "### Warm-up"
   ]
  },
  {
   "cell_type": "code",
   "execution_count": null,
   "metadata": {},
   "outputs": [],
   "source": [
    "# Sock Merchant\n",
    "\n",
    "def sock_merchant(ar):\n",
    "    list_of_socks = [0 for i in range(101)]\n",
    "    \n",
    "    for element in ar:\n",
    "        list_of_socks[element] = list_of_socks[element] + 1\n",
    "    \n",
    "    ans = 0\n",
    "    \n",
    "    for sock in list_of_socks:\n",
    "        ans += sock // 2\n",
    "        \n",
    "    return ans\n",
    "\n",
    "n = int(input().strip())\n",
    "ar = list(map(int, input().strip().split(' ')))\n",
    "result = sock_merchant(ar)\n",
    "print(result)"
   ]
  },
  {
   "cell_type": "code",
   "execution_count": null,
   "metadata": {},
   "outputs": [],
   "source": [
    "# Counting Valleys\n",
    "\n",
    "def counting_valleys(n, s):\n",
    "    current_level = 0\n",
    "    count = 0\n",
    "    \n",
    "    for i in range(n):\n",
    "        if s[i] == 'U':\n",
    "            current_level += 1\n",
    "        elif s[i] == 'D':\n",
    "            current_level -= 1\n",
    "            if current_level == -1:\n",
    "                count += 1\n",
    "                \n",
    "    return count\n",
    "\n",
    "\n",
    "n = int(input().strip())\n",
    "s = input().strip()\n",
    "result = counting_valleys(n, s)\n",
    "print(result)"
   ]
  },
  {
   "cell_type": "code",
   "execution_count": null,
   "metadata": {},
   "outputs": [],
   "source": [
    "# Jumping on the Clouds\n",
    "\n",
    "def jumping_on_cloud(n, c):\n",
    "    c.append(0)\n",
    "    ans = 0\n",
    "    position = 0\n",
    "    \n",
    "    while position < (n-1):\n",
    "        position += (c[position+2] == 0) + 1\n",
    "        ans += 1\n",
    "    \n",
    "    return ans\n",
    "\n",
    "\n",
    "n = int(input())\n",
    "c = list(map(int, input().rstrip().split()))\n",
    "print(jumping_on_cloud(n, c))"
   ]
  },
  {
   "cell_type": "code",
   "execution_count": null,
   "metadata": {},
   "outputs": [],
   "source": [
    "# Repeated String\n",
    "\n",
    "def repeated_string(s, n):\n",
    "    return n // len(s) * s.count('a') + s[0:n%len(s)].count('a')\n",
    "\n",
    "\n",
    "s = input()\n",
    "n = int(input())\n",
    "print(repeated_string(s, n))"
   ]
  },
  {
   "cell_type": "markdown",
   "metadata": {},
   "source": [
    "### Arrays"
   ]
  },
  {
   "cell_type": "code",
   "execution_count": null,
   "metadata": {},
   "outputs": [],
   "source": [
    "# Left Rotation\n",
    "\n",
    "def array_left_rotation(a, k):\n",
    "    result = a[k:] + a[:k]\n",
    "    return result\n",
    "\n",
    "\n",
    "n, k = map(int, input().strip().split(' '))\n",
    "a = list(map(int, input().strip().split(' ')))\n",
    "print(*array_left_rotation(a, k))"
   ]
  },
  {
   "cell_type": "code",
   "execution_count": null,
   "metadata": {},
   "outputs": [],
   "source": [
    "# 2D Array\n",
    "\n",
    "def hourglass(arr, i, j):\n",
    "    return sum(arr[i][j:j+3]) + arr[i+1][j+1] + sum(arr[i+2][j:j+3])\n",
    "\n",
    "\n",
    "arr = []\n",
    "for i in range(6):\n",
    "    arr.append(list(map(int, input().split())))\n",
    "    \n",
    "ans = hourglass(arr, 0, 0)\n",
    "\n",
    "for i in range(4):\n",
    "    for j in range(4):\n",
    "        ans = max(ans, hourglass(arr, i, j))\n",
    "        \n",
    "print(ans)"
   ]
  },
  {
   "cell_type": "code",
   "execution_count": null,
   "metadata": {},
   "outputs": [],
   "source": [
    "# New Year Chaos\n",
    "\n",
    "t = int(input())\n",
    "\n",
    "for test in range(t):\n",
    "    n = int(input())\n",
    "    arr = list(map(int, input().split()))\n",
    "    count = 0\n",
    "    \n",
    "    for i in range(2):\n",
    "        for j in range(len(arr) - 1, 0, -1):\n",
    "            if arr[j] < arr[j-1]:\n",
    "                arr[j], arr[j-1] = arr[j-1], arr[j]\n",
    "                count += 1\n",
    "                \n",
    "    if arr == sorted(arr):\n",
    "        print(count)\n",
    "    else:\n",
    "        print('Too chaotic')"
   ]
  },
  {
   "cell_type": "code",
   "execution_count": null,
   "metadata": {},
   "outputs": [],
   "source": [
    "# Minimum swap\n",
    "\n",
    "n = int(input())\n",
    "arr = list(map(int, input().split()))\n",
    "count = 0\n",
    "\n",
    "i = 0\n",
    "while i < len(arr):\n",
    "    if arr[i] != i+1:\n",
    "        arr[arr[i] - 1], arr[i] = arr[i], arr[arr[i] - 1]\n",
    "        count += 1\n",
    "    else:\n",
    "        i += 1\n",
    "        \n",
    "print(count)"
   ]
  },
  {
   "cell_type": "code",
   "execution_count": null,
   "metadata": {},
   "outputs": [],
   "source": [
    "## Array Manipulation\n",
    "\n",
    "n, queries = map(int, input().split())\n",
    "arr = [0 for i in range(n+2)]\n",
    "\n",
    "for i in range(queries):\n",
    "    start, finish, k = map(int, input().split())\n",
    "    arr[start - 1] += k\n",
    "    arr[finish] -= k\n",
    "    \n",
    "ans = 0\n",
    "current = 0\n",
    "\n",
    "for i in arr:\n",
    "    current += i\n",
    "    if current > ans:\n",
    "        ans = current\n",
    "        \n",
    "print(ans)"
   ]
  },
  {
   "cell_type": "markdown",
   "metadata": {},
   "source": [
    "### Dictionaries and Hashmaps"
   ]
  },
  {
   "cell_type": "code",
   "execution_count": null,
   "metadata": {},
   "outputs": [],
   "source": [
    "# Ransom Note\n",
    "\n",
    "from collections import Counter\n",
    "\n",
    "def checkMagazine(magazine, note):\n",
    "    if Counter(note) - Counter(magazine) == {}:\n",
    "        return 'Yes'\n",
    "    else:\n",
    "        return 'No'\n",
    "    \n",
    "m, n = map(int, input().split())\n",
    "magazine = list(input().split())\n",
    "note = list(input().split())\n",
    "print(checkMagazine(magazine, note))"
   ]
  },
  {
   "cell_type": "code",
   "execution_count": null,
   "metadata": {},
   "outputs": [],
   "source": [
    "# Two Strings\n",
    "\n",
    "for i in range(int(input())):\n",
    "    str1 = set(input())\n",
    "    str2 = set(input())\n",
    "    \n",
    "    if str1 & str2 != set():\n",
    "        print('YES')\n",
    "    else:\n",
    "        print('NO')"
   ]
  },
  {
   "cell_type": "code",
   "execution_count": null,
   "metadata": {},
   "outputs": [],
   "source": [
    "# Count Triplets\n",
    "\n",
    "from collections import defaultdict\n",
    "\n",
    "def count_triplets(arr, r):\n",
    "    arr2 = defaultdict(int)\n",
    "    arr3 = defaultdict(int)\n",
    "    count = 0\n",
    "    \n",
    "    for i in arr:\n",
    "        count += arr3[i]\n",
    "        arr3[i*r] += arr2[i]\n",
    "        arr2[i*r] += 1\n",
    "    \n",
    "    return count\n",
    "\n",
    "\n",
    "n, r = map(int, input().split())\n",
    "arr = list(map(int, input().split()))\n",
    "print(count_triplets(arr, r))"
   ]
  },
  {
   "cell_type": "code",
   "execution_count": null,
   "metadata": {},
   "outputs": [],
   "source": [
    "# Frequency Queries\n",
    "\n",
    "from collections import defaultdict\n",
    "\n",
    "arr = defaultdict(int)\n",
    "frequencies = defaultdict(int)\n",
    "result = []\n",
    "\n",
    "for i in range(int(input())):\n",
    "    command, value = map(int, input().split())\n",
    "    \n",
    "    if command == 1:\n",
    "        arr[value] += 1\n",
    "        frequencies[arr[value]] += 1\n",
    "        frequencies[arr[value] - 1] -= 1\n",
    "        \n",
    "    if command == 2 and arr[value] != 0:\n",
    "        arr[value] -= 1\n",
    "        frequencies[arr[value]] += 1\n",
    "        frequencies[arr[value] + 1] -= 1\n",
    "        \n",
    "    if command == 3:\n",
    "        result.append(1 if frequencies[value] > 0 else 0)\n",
    "        \n",
    "for i in result:\n",
    "    print(i)"
   ]
  },
  {
   "cell_type": "code",
   "execution_count": null,
   "metadata": {},
   "outputs": [],
   "source": [
    "# Sherlock and Anagrams\n",
    "\n",
    "from collections import defaultdict\n",
    "\n",
    "for t in range(int(input())):\n",
    "    s = input()\n",
    "    substrings = defaultdict(int)\n",
    "    \n",
    "    for i in range(1, len(s)):\n",
    "        for j in range(len(s) - i + 1):\n",
    "            substrings[''.join(sorted(s[j:j+i]))] += 1\n",
    "            \n",
    "    ans = 0\n",
    "    \n",
    "    for key, value in substrings.items():\n",
    "        ans += value*(value-1) // 2\n",
    "        \n",
    "    print(ans)"
   ]
  },
  {
   "cell_type": "markdown",
   "metadata": {},
   "source": [
    "### Sorting"
   ]
  },
  {
   "cell_type": "code",
   "execution_count": null,
   "metadata": {
    "scrolled": true
   },
   "outputs": [],
   "source": [
    "# Bubble Sort\n",
    "\n",
    "n = int(input())\n",
    "a = list(map(int, input().split()))\n",
    "count = 0\n",
    "\n",
    "for i in range(n):\n",
    "    for j in range(n-1):\n",
    "        if a[j] > a[j+1]:\n",
    "            a[j], a[j+1] = a[j+1], a[j]\n",
    "            count += 1\n",
    "            \n",
    "print('Array is sorted in', count, 'swaps.')\n",
    "print('First element:', a[0])\n",
    "print('Last element:', a[-1])"
   ]
  },
  {
   "cell_type": "code",
   "execution_count": null,
   "metadata": {},
   "outputs": [],
   "source": [
    "# Mark and Toys\n",
    "\n",
    "n, k = map(int, input().split())\n",
    "prices = sorted(list(map(int, input().split())))\n",
    "count = 0\n",
    "total_sum = 0\n",
    "\n",
    "for i in prices:\n",
    "    total_sum += i\n",
    "    if total_sum > k:\n",
    "        break\n",
    "    else:\n",
    "        count += 1\n",
    "        \n",
    "print(count)"
   ]
  },
  {
   "cell_type": "markdown",
   "metadata": {},
   "source": [
    "### Search"
   ]
  },
  {
   "cell_type": "code",
   "execution_count": null,
   "metadata": {},
   "outputs": [],
   "source": [
    "# Ice Cream Parlor\n",
    "\n",
    "t = int(input())\n",
    "\n",
    "for i in range(t):\n",
    "    money = int(input())\n",
    "    n = int(input())\n",
    "    arr = list(map(int, input().split()))\n",
    "    \n",
    "    saved_values = {}\n",
    "    \n",
    "    for counter, value in enumerate(arr):\n",
    "        if money-value in saved_values:\n",
    "            print(saved_values[money-value] + 1, counter + 1)\n",
    "        elif value not in saved_values:\n",
    "            saved_values[value] = counter"
   ]
  },
  {
   "cell_type": "code",
   "execution_count": null,
   "metadata": {},
   "outputs": [],
   "source": [
    "# Minimum Time Required\n",
    "\n",
    "import math\n",
    "\n",
    "def minimum_time(goal, machines):\n",
    "    min_days = math.ceil(goal / (len(machines) / min(machines)))\n",
    "    max_days = math.ceil(goal / (len(machines) / max(machines)))\n",
    "    \n",
    "    while min_days < max_days:\n",
    "        day = (min_days + max_days) // 2\n",
    "        if sum(day // i for i in machines) >= goal:\n",
    "            max_days = day\n",
    "        else:\n",
    "            min_days = day + 1\n",
    "    return min_days\n",
    "\n",
    "n, goal = map(int, input().split())\n",
    "machines = list(map(int, input().split()))\n",
    "print(minimum_time(goal, machines))"
   ]
  },
  {
   "cell_type": "code",
   "execution_count": null,
   "metadata": {},
   "outputs": [],
   "source": [
    "# Triple Sum\n",
    "\n",
    "def binary_search_last(arr, el, low, high):\n",
    "    if low + 1 >= high:\n",
    "        if arr[low] > el:\n",
    "            return 0\n",
    "        else:\n",
    "            return low + 1\n",
    "    middle = (low + high) // 2\n",
    "    if arr[middle] > el:\n",
    "        return binary_search_last(arr, el, low, middle)\n",
    "    else:\n",
    "        return binary_search_last(arr, el, middle, high)\n",
    "    \n",
    "len_a, len_b, len_c = map(int, input().split())\n",
    "a = sorted(set(map(int, input().split())))\n",
    "b = sorted(list(set(map(int, input().split()))))\n",
    "c = sorted(list(set(map(int, input().split()))))\n",
    "\n",
    "ans = 0\n",
    "for i in set(b):\n",
    "    ans += binary_search_last(a, i, 0, len(a)) * binary_search_last(c, i, 0, len(c))\n",
    "print(ans)"
   ]
  },
  {
   "cell_type": "markdown",
   "metadata": {},
   "source": [
    "### Dynamic Programming"
   ]
  },
  {
   "cell_type": "code",
   "execution_count": null,
   "metadata": {},
   "outputs": [],
   "source": [
    "# Max Array Sum\n",
    "\n",
    "def max_subset_sum(arr):\n",
    "    dp = list()\n",
    "    dp.append(arr[0])\n",
    "    dp.append(max(arr[:2]))\n",
    "    ans = dp[-1]\n",
    "    \n",
    "    for i in arr[2:]:\n",
    "        dp.append(max(i, dp[-2]+i, ans))\n",
    "        ans = max(ans, dp[-1])\n",
    "    return ans\n",
    "\n",
    "n = int(input())\n",
    "arr = list(map(int, input().split()))\n",
    "print(max_subset_sum(arr))"
   ]
  }
 ],
 "metadata": {
  "kernelspec": {
   "display_name": "Python 3",
   "language": "python",
   "name": "python3"
  },
  "language_info": {
   "codemirror_mode": {
    "name": "ipython",
    "version": 3
   },
   "file_extension": ".py",
   "mimetype": "text/x-python",
   "name": "python",
   "nbconvert_exporter": "python",
   "pygments_lexer": "ipython3",
   "version": "3.7.3"
  }
 },
 "nbformat": 4,
 "nbformat_minor": 2
}
