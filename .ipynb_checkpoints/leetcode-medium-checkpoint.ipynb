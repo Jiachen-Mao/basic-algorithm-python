{
 "cells": [
  {
   "cell_type": "code",
   "execution_count": null,
   "metadata": {},
   "outputs": [],
   "source": [
    "## 0029 Divide two integers\n",
    "\n",
    "def _multi_divide(self, divisor, dividend):\n",
    "    result = 0\n",
    "    times_count = 1\n",
    "    \n",
    "    while divisor <= dividend:\n",
    "        dividend -= divisor\n",
    "        result += times_count\n",
    "        times_count += times_count\n",
    "        divisor += divisor\n",
    "    \n",
    "    return result, dividend"
   ]
  },
  {
   "cell_type": "code",
   "execution_count": null,
   "metadata": {},
   "outputs": [],
   "source": [
    "## 0048 Rotate image\n",
    "\n",
    "class Solution:\n",
    "    def rotate(self, matrix: List[List[int]]) -> None:\n",
    "        n = len(matrix)\n",
    "        for i in range(n):\n",
    "            for j in range(i, n):\n",
    "                matrix[i][j], matrix[j][i] = matrix[j][i], matrix[i][j]\n",
    "        for m in matrix:\n",
    "            m.reverse()\n",
    "            \n",
    "    def rotate2(self, matrix: List[List[int]]) -> None:\n",
    "        matrix[:] = map(list, zip(*matrix[::-1]))"
   ]
  },
  {
   "cell_type": "code",
   "execution_count": null,
   "metadata": {},
   "outputs": [],
   "source": [
    "## 0055 Jump game\n",
    "\n",
    "class Solution:\n",
    "    def canJump(self, nums: List[int]) -> bool:\n",
    "        _max = 0\n",
    "        _len = len(nums)\n",
    "        \n",
    "        for i in range(_len - 1):\n",
    "            if _max < i:\n",
    "                return False\n",
    "            _max = max(_max, nums[i] + i)\n",
    "            \n",
    "            if _max >= len - 1:\n",
    "                return True\n",
    "            \n",
    "        return _max >= _len - 1"
   ]
  },
  {
   "cell_type": "code",
   "execution_count": null,
   "metadata": {},
   "outputs": [],
   "source": [
    "## 0056 Merge intervals\n",
    "\n",
    "class Solution:\n",
    "    def merge(self, intervals: List[List[int]]) -> List[List[int]]:\n",
    "        if len(intervals) <= 1:\n",
    "            return intervals\n",
    "        \n",
    "        def get_first(a_list):\n",
    "            return a_list[0]\n",
    "        intervals.sort(key = get_first)\n",
    "        \n",
    "        res = [intervals[0]]\n",
    "        \n",
    "        for i in range(1, len(intervals)):\n",
    "            if intervals[i][0] <= res[-1][1]:\n",
    "                res[-1] = [res[-1][0], max(res[-1][1], intervals[i][1])]\n",
    "            else:\n",
    "                res.append(intervals[i])\n",
    "                \n",
    "        return res"
   ]
  }
 ],
 "metadata": {
  "kernelspec": {
   "display_name": "Python 3",
   "language": "python",
   "name": "python3"
  },
  "language_info": {
   "codemirror_mode": {
    "name": "ipython",
    "version": 3
   },
   "file_extension": ".py",
   "mimetype": "text/x-python",
   "name": "python",
   "nbconvert_exporter": "python",
   "pygments_lexer": "ipython3",
   "version": "3.7.3"
  }
 },
 "nbformat": 4,
 "nbformat_minor": 2
}
