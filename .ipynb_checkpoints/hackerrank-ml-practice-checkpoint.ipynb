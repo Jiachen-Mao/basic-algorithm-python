{
 "cells": [
  {
   "cell_type": "code",
   "execution_count": 2,
   "metadata": {},
   "outputs": [
    {
     "name": "stdout",
     "output_type": "stream",
     "text": [
      "5\n",
      "p----\n",
      "-----\n",
      "--m--\n",
      "-----\n",
      "-----\n",
      "UP\n",
      "LEFT\n",
      "UP\n",
      "LEFT\n"
     ]
    }
   ],
   "source": [
    "# Bot Building\n",
    "\n",
    "def displayPathtoPrincess(n, grid):\n",
    "    pos_col = {}\n",
    "    pos_row = {}\n",
    "    not_find = True\n",
    "    \n",
    "    for i in range(n):\n",
    "        line = len(grid[i])\n",
    "        for j in range(line):\n",
    "            if grid[i][j] == 'm':\n",
    "                pos_row['m'] = i\n",
    "                pos_col['m'] = j\n",
    "            elif grid[i][j] == 'p':\n",
    "                pos_row['p'] = i\n",
    "                pos_col['p'] = j\n",
    "                \n",
    "    while (not_find):\n",
    "        if pos_row['m'] < pos_row['p']:\n",
    "            pos_row['m'] = pos_row['m'] + 1\n",
    "            print('DOWN')\n",
    "        elif pos_row['m'] > pos_row['p']:\n",
    "            pos_row['m'] = pos_row['m'] - 1\n",
    "            print('UP')\n",
    "            \n",
    "        if pos_col['m'] < pos_col['p']:\n",
    "            pos_col['m'] = pos_col['m'] + 1\n",
    "            print('RIGHT')\n",
    "        elif pos_col['m'] > pos_col['p']:\n",
    "            pos_col['m'] = pos_col['m'] - 1\n",
    "            print('LEFT')\n",
    "            \n",
    "        if pos_col['m'] == pos_col['p'] and pos_row['m'] == pos_row['p']:\n",
    "            not_find = False\n",
    "            \n",
    "            \n",
    "m = int(input())\n",
    "grid = []\n",
    "for i in range(0, m):\n",
    "    grid.append(input().strip())\n",
    "    \n",
    "displayPathtoPrincess(m, grid)"
   ]
  },
  {
   "cell_type": "code",
   "execution_count": 3,
   "metadata": {},
   "outputs": [
    {
     "name": "stdout",
     "output_type": "stream",
     "text": [
      "5\n",
      "2 3\n",
      "-----\n",
      "-----\n",
      "p---m\n",
      "-----\n",
      "-----\n",
      "LEFT\n"
     ]
    }
   ],
   "source": [
    "# Bot Building\n",
    "\n",
    "def nextMove(n, r, c, grid):\n",
    "    pos_col_m = c\n",
    "    pos_row_m = r\n",
    "    pos_col_p = pos_row_p = 0\n",
    "    \n",
    "    for i in range(n):\n",
    "        line = len(grid[i])\n",
    "        for j in range(line):\n",
    "            if grid[i][j] == 'p':\n",
    "                pos_row_p = i\n",
    "                pos_col_p = j\n",
    "                \n",
    "    if pos_row_m < pos_row_p:\n",
    "        pos_row_m = pos_row_m + 1\n",
    "        return 'DOWN'\n",
    "    elif pos_row_m > pos_row_p:\n",
    "        pos_row_m = pos_row_m - 1\n",
    "        return 'UP'\n",
    "    \n",
    "    if pos_col_m < pos_col_p:\n",
    "        pos_col_m = pos_col_m + 1\n",
    "        return 'RIGHT'\n",
    "    elif pos_col_m > pos_col_p:\n",
    "        pos_col_m = pos_col_m - 1\n",
    "        return 'LEFT'\n",
    "    \n",
    "    \n",
    "n = int(input())\n",
    "r, c = [int(i) for i in input().strip().split()]\n",
    "grid = []\n",
    "\n",
    "for i in range(0, n):\n",
    "    grid.append(input())\n",
    "    \n",
    "print(nextMove(n, r, c, grid))"
   ]
  },
  {
   "cell_type": "code",
   "execution_count": 4,
   "metadata": {},
   "outputs": [
    {
     "name": "stdout",
     "output_type": "stream",
     "text": [
      "0 0\n",
      "b---d\n",
      "-d--d\n",
      "--dd-\n",
      "--d--\n",
      "----d\n",
      "RIGHT\n"
     ]
    }
   ],
   "source": [
    "# BotClean\n",
    "\n",
    "import math\n",
    "\n",
    "def update_position(posr, posc, dirties):\n",
    "    nearest_dirt = []\n",
    "    for i in range(len(dirties)):\n",
    "        result = math.sqrt((dirties[i][0] - posr)**2 + (dirties[i][1] - posc)**2)\n",
    "        nearest_dirt.append(result)\n",
    "    return [x for (y, x) in sorted(zip(nearest_dirt, dirties))]\n",
    "\n",
    "def next_move(posr, posc, board):\n",
    "    dirties = []\n",
    "    for i in range(len(board)):\n",
    "        for j in range(len(board[i])):\n",
    "            if board[i][j] == 'd':\n",
    "                dirties.append([i, j])\n",
    "                \n",
    "    next_dirt = update_position(posr, posc, dirties)\n",
    "    if next_dirt[0][1] < posc:\n",
    "        print('LEFT')\n",
    "    elif next_dirt[0][1] > posc:\n",
    "        print('RIGHT')\n",
    "    elif next_dirt[0][0] < posr:\n",
    "        print('UP')\n",
    "    elif next_dirt[0][0] > posr:\n",
    "        print('DOWN')\n",
    "    else:\n",
    "        print('CLEAN')\n",
    "        \n",
    "        \n",
    "if __name__ == \"__main__\":\n",
    "    pos = [int(i) for i in input().strip().split()]\n",
    "    board = [[j for j in input().strip()] for i in range(5)]\n",
    "    next_move(pos[0], pos[1], board)"
   ]
  },
  {
   "cell_type": "code",
   "execution_count": 6,
   "metadata": {},
   "outputs": [
    {
     "name": "stdout",
     "output_type": "stream",
     "text": [
      "0.145\n"
     ]
    }
   ],
   "source": [
    "# Correlation and Regression\n",
    "\n",
    "import math\n",
    "\n",
    "def mean(data):\n",
    "    return sum(data)/len(data)\n",
    "\n",
    "def var(data):\n",
    "    sum = 0\n",
    "    for i in range(len(data)):\n",
    "        sum = sum + (data[i] - mean(data))**2\n",
    "    return sum\n",
    "\n",
    "def cov(dt1, dt2):\n",
    "    sum = 0\n",
    "    for i in range(len(dt1)):\n",
    "        sum += (dt1[i] - mean(dt1)) * (dt2[i] - mean(dt2))\n",
    "    return sum\n",
    "\n",
    "physics = [15.0, 12.0, 8.0, 8.0, 7.0, 7.0, 7.0, 6.0, 5.0, 3.0]\n",
    "history = [10.0, 25.0, 17.0, 11.0, 13.0, 17.0, 20.0, 13.0, 9.0, 15.0]\n",
    "\n",
    "mean_history = mean(history)\n",
    "mean_physics = mean(physics)\n",
    "\n",
    "var_physics = var(physics)\n",
    "var_history = var(history)\n",
    "\n",
    "cov = cov(physics, history)\n",
    "std = math.sqrt(var_physics * var_history)\n",
    "\n",
    "r = cov / std\n",
    "print(round(r, 3))"
   ]
  },
  {
   "cell_type": "code",
   "execution_count": 7,
   "metadata": {},
   "outputs": [
    {
     "name": "stdout",
     "output_type": "stream",
     "text": [
      "0.208\n"
     ]
    }
   ],
   "source": [
    "def mean(data):\n",
    "    return sum(data) / len(data)\n",
    "\n",
    "physics = [15.0, 12.0, 8.0, 8.0, 7.0, 7.0, 7.0, 6.0, 5.0, 3.0]\n",
    "history = [10.0, 25.0, 17.0, 11.0, 13.0, 17.0, 20.0, 13.0, 9.0, 15.0]\n",
    "\n",
    "mean_history = mean(history)\n",
    "mean_physics = mean(physics)\n",
    "\n",
    "var_physics = sum([(p - mean_physics)**2 for p in physics])\n",
    "sum_phy_his = 0\n",
    "\n",
    "for i in range(len(physics)):\n",
    "    sum_phy_his += (physics[i] - mean_physics) * (history[i] - mean_history)\n",
    "    \n",
    "slope = sum_phy_his / var_physics\n",
    "print(round(slope, 3))"
   ]
  },
  {
   "cell_type": "code",
   "execution_count": 8,
   "metadata": {},
   "outputs": [
    {
     "name": "stdout",
     "output_type": "stream",
     "text": [
      "15.5\n"
     ]
    }
   ],
   "source": [
    "def mean(data):\n",
    "    return sum(data) / len(data)\n",
    "\n",
    "# Set data\n",
    "physics = [15.0, 12.0, 8.0, 8.0, 7.0, 7.0, 7.0, 6.0, 5.0, 3.0]\n",
    "history = [10.0, 25.0, 17.0, 11.0, 13.0, 17.0, 20.0, 13.0, 9.0, 15.0]\n",
    "\n",
    "mean_physics = mean(physics)\n",
    "mean_history = mean(history)\n",
    "\n",
    "var_physics = sum([(p - mean_physics) ** 2 for p in physics])\n",
    "sum_phy_his = 0\n",
    "for i in range(len(physics)):\n",
    "    sum_phy_his += (physics[i] - mean_physics) * (history[i] - mean_history)\n",
    "\n",
    "# b = Σ(x - mean(x)) * (y - mean(y)) / Σ (x - mean(x))²\n",
    "b = sum_phy_his / var_physics\n",
    "\n",
    "# physics is x, variable independent\n",
    "# history is y, variable dependent\n",
    "# a = mean(y) - b * mean(x)\n",
    "a = mean_history - b * mean_physics\n",
    "\n",
    "result = b*10 + a\n",
    "print(round(result, 1))"
   ]
  },
  {
   "cell_type": "code",
   "execution_count": 9,
   "metadata": {},
   "outputs": [
    {
     "name": "stdout",
     "output_type": "stream",
     "text": [
      "8.5\n"
     ]
    }
   ],
   "source": [
    "y = 7\n",
    "\n",
    "val_x = (9*y + 107)/20\n",
    "\n",
    "print(round(val_x, 1))"
   ]
  },
  {
   "cell_type": "code",
   "execution_count": 2,
   "metadata": {},
   "outputs": [
    {
     "name": "stdout",
     "output_type": "stream",
     "text": [
      "4\n",
      "73 72 76\n",
      "48 67 76\n",
      "95 92 95\n",
      "95 95 96\n",
      "0.94\n",
      "0.89\n",
      "0.99\n"
     ]
    }
   ],
   "source": [
    "import math\n",
    "\n",
    "def pearson(first_data, second_data, n):\n",
    "    sum_first_data = sum(first_data)\n",
    "    sum_second_data = sum(second_data)\n",
    "    sum_data = sum([x*y for x, y in zip(first_data, second_data)])\n",
    "    \n",
    "    sum_first_data_sq = sum([x**2 for x in first_data])\n",
    "    sum_first_data_mult_sq = sum_first_data ** 2\n",
    "    sum_second_data_sq = sum([y**2 for y in second_data])\n",
    "    sum_second_data_mult_sq = sum_second_data ** 2\n",
    "    \n",
    "    numerator = (n*sum_data) - (sum_first_data * sum_second_data)\n",
    "    den_first_data = math.sqrt((n*sum_first_data_sq) - sum_first_data_mult_sq)\n",
    "    den_second_data = math.sqrt((n*sum_second_data_sq) - sum_second_data_mult_sq)\n",
    "    \n",
    "    return round(numerator/(den_first_data*den_second_data), 2)\n",
    "\n",
    "\n",
    "n = int(input())\n",
    "mathematics = []\n",
    "physics = []\n",
    "chemistry = []\n",
    "\n",
    "for i in range(n):\n",
    "    elements = list(map(float, input().split()))\n",
    "    mathematics.append(elements[0])\n",
    "    physics.append(elements[1])\n",
    "    chemistry.append(elements[2])\n",
    "    \n",
    "print(pearson(mathematics, physics, float(n)))\n",
    "print(pearson(mathematics, chemistry, float(n)))\n",
    "print(pearson(chemistry, physics, float(n)))"
   ]
  },
  {
   "cell_type": "code",
   "execution_count": 3,
   "metadata": {},
   "outputs": [
    {
     "name": "stdout",
     "output_type": "stream",
     "text": [
      "2 7\n",
      "0.18 0.89 109.85\n",
      "1.0 0.26 155.72\n",
      "0.92 0.11 137.66\n",
      "0.07 0.37 76.17\n",
      "0.85 0.16 139.75\n",
      "0.99 0.41 162.6\n",
      "0.87 0.47 151.77\n",
      "4\n",
      "0.49 0.18\n",
      "0.57 0.83\n",
      "0.56 0.64\n",
      "0.76 0.18\n",
      "105.21\n",
      "142.67\n",
      "132.94\n",
      "129.7\n"
     ]
    }
   ],
   "source": [
    "from sklearn import linear_model\n",
    "\n",
    "features, rows = map(int, input().split())\n",
    "X, Y = [], []\n",
    "\n",
    "for i in range(rows):\n",
    "    x = [0]\n",
    "    elements = list(map(float, input().split()))\n",
    "    for j in range(len(elements)):\n",
    "        if j < features:\n",
    "            x.append(elements[j])\n",
    "        else:\n",
    "            Y.append(elements[j])\n",
    "    X.append(x)\n",
    "    \n",
    "model = linear_model.LinearRegression()\n",
    "model.fit(X, Y)\n",
    "a = model.intercept_\n",
    "b = model.coef_\n",
    "\n",
    "new_rows = int(input())\n",
    "new_X = []\n",
    "\n",
    "for i in range(new_rows):\n",
    "    x = [0]\n",
    "    elements = list(map(float, input().split()))\n",
    "    for j in range(len(elements)):\n",
    "        x.append(elements[j])\n",
    "    new_X.append(x)\n",
    "    \n",
    "result = model.predict(new_X)\n",
    "\n",
    "for i in range(len(result)):\n",
    "    print(round(result[i], 2))"
   ]
  },
  {
   "cell_type": "code",
   "execution_count": 4,
   "metadata": {},
   "outputs": [
    {
     "name": "stdout",
     "output_type": "stream",
     "text": [
      "2 5\n",
      "0.44 0.68 511.14\n",
      "0.99 0.23 717.1\n",
      "0.84 0.29 607.91\n",
      "0.28 0.45 270.4\n",
      "0.07 0.83 289.88\n",
      "2\n",
      "0.05 0.54\n",
      "0.911 0.91\n",
      "171.96\n",
      "1293.66\n"
     ]
    }
   ],
   "source": [
    "from sklearn import linear_model\n",
    "from sklearn.preprocessing import PolynomialFeatures\n",
    "import numpy as np\n",
    "\n",
    "features, rows = map(int, input().split())\n",
    "X, Y = [], []\n",
    "\n",
    "for i in range(rows):\n",
    "    x = [0]\n",
    "    elements = list(map(float, input().split()))\n",
    "    for j in range(len(elements)):\n",
    "        if j < features:\n",
    "            x.append(elements[j])\n",
    "        else:\n",
    "            Y.append(elements[j])\n",
    "    X.append(x)\n",
    "    \n",
    "poly = PolynomialFeatures(degree = 3)\n",
    "\n",
    "model = linear_model.LinearRegression()\n",
    "model.fit(poly.fit_transform(np.array(X)), Y)\n",
    "\n",
    "new_rows = int(input())\n",
    "new_X = []\n",
    "for i in range(new_rows):\n",
    "    x = [0]\n",
    "    elements = list(map(float, input().split()))\n",
    "    for j in range(len(elements)):\n",
    "        x.append(elements[j])\n",
    "    new_X.append(x)\n",
    "    \n",
    "result = model.predict(poly.fit_transform(np.array(new_X)))\n",
    "for i in range(len(result)):\n",
    "    print(round(result[i], 2))"
   ]
  },
  {
   "cell_type": "code",
   "execution_count": 12,
   "metadata": {},
   "outputs": [
    {
     "data": {
      "image/png": "[encoded data removed]",
      "text/plain": [
       "<Figure size 432x288 with 1 Axes>"
      ]
     },
     "metadata": {
      "needs_background": "light"
     },
     "output_type": "display_data"
    },
    {
     "name": "stderr",
     "output_type": "stream",
     "text": [
      "C:\\Users\\maoja\\Anaconda3\\lib\\site-packages\\ipykernel_launcher.py:16: FutureWarning: Method .as_matrix will be removed in a future version. Use .values instead.\n",
      "  app.launch_new_instance()\n",
      "C:\\Users\\maoja\\Anaconda3\\lib\\site-packages\\ipykernel_launcher.py:17: FutureWarning: Method .as_matrix will be removed in a future version. Use .values instead.\n"
     ]
    },
    {
     "name": "stdout",
     "output_type": "stream",
     "text": [
      "1.5\n",
      "3.0\n"
     ]
    }
   ],
   "source": [
    "import sys\n",
    "import pandas as pd\n",
    "from sklearn import linear_model\n",
    "import matplotlib.pyplot as plt\n",
    "\n",
    "dataset = pd.read_csv('https://s3.amazonaws.com/hr-testcases/399/assets/trainingdata.txt', header = None)\n",
    "\n",
    "plt.plot(dataset.iloc[:,0], dataset.iloc[:,1], 'ro')\n",
    "plt.ylabel('Laptop battery life')\n",
    "plt.show()\n",
    "\n",
    "dataset = dataset[dataset.iloc[:, 1] < 8]\n",
    "\n",
    "dataset.insert(0, len(dataset.columns), 0)\n",
    "\n",
    "X = dataset.iloc[:,0:2].as_matrix()\n",
    "Y = dataset.iloc[:,2].as_matrix()\n",
    "\n",
    "model = linear_model.LinearRegression()\n",
    "model.fit(X, Y)\n",
    "\n",
    "timeCharged = float(input().strip())\n",
    "result = model.predict([[0, timeCharged]])\n",
    "if result[0] > 8:\n",
    "    print(8.0)\n",
    "else:\n",
    "    print(round(result[0], 2))"
   ]
  },
  {
   "cell_type": "code",
   "execution_count": 15,
   "metadata": {},
   "outputs": [
    {
     "name": "stdout",
     "output_type": "stream",
     "text": [
      "10\n",
      "64630 11735 14216 99233 14470 4978 73429 38120 51135 67060\n",
      "43900.6\n",
      "44627.5\n",
      "4978\n",
      "30466.9\n",
      "25017.0 62784.2\n"
     ]
    }
   ],
   "source": [
    "import numpy as np\n",
    "import math\n",
    "import statistics as stpy\n",
    "from scipy import stats\n",
    "\n",
    "def mean_confidence_interval(length, mean, stdev):\n",
    "    return 1.96 * (stdev/math.sqrt(length))\n",
    "\n",
    "total = int(input())\n",
    "numbers = list(map(int, input().split()))\n",
    "\n",
    "mean = np.mean(numbers)\n",
    "median = np.median(numbers)\n",
    "mode = int(stats.mode(numbers)[0])\n",
    "stdev = stpy.pstdev(numbers)\n",
    "confidence_interval = mean_confidence_interval(total, mean, stdev)\n",
    "min_confidence = round(mean - confidence_interval, 1)\n",
    "max_confidence = round(mean + confidence_interval, 1)\n",
    "\n",
    "print(round(mean, 1))\n",
    "print(round(median, 1))\n",
    "print(mode)\n",
    "print(round(stdev, 1))\n",
    "print(\"{} {}\".format(min_confidence, max_confidence))"
   ]
  },
  {
   "cell_type": "code",
   "execution_count": null,
   "metadata": {},
   "outputs": [],
   "source": []
  }
 ],
 "metadata": {
  "kernelspec": {
   "display_name": "Python 3",
   "language": "python",
   "name": "python3"
  },
  "language_info": {
   "codemirror_mode": {
    "name": "ipython",
    "version": 3
   },
   "file_extension": ".py",
   "mimetype": "text/x-python",
   "name": "python",
   "nbconvert_exporter": "python",
   "pygments_lexer": "ipython3",
   "version": "3.7.3"
  }
 },
 "nbformat": 4,
 "nbformat_minor": 2
}
