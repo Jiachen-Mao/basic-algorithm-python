{
 "cells": [
  {
   "cell_type": "code",
   "execution_count": 1,
   "metadata": {},
   "outputs": [
    {
     "name": "stdout",
     "output_type": "stream",
     "text": [
      "6\n",
      "1 2 3 4 5 6\n",
      "21\n"
     ]
    }
   ],
   "source": [
    "# Simple Array Sum\n",
    "\n",
    "n = int(input())\n",
    "arr = list(map(int, input().split()))\n",
    "\n",
    "print(sum(arr))"
   ]
  },
  {
   "cell_type": "code",
   "execution_count": 2,
   "metadata": {},
   "outputs": [
    {
     "name": "stdout",
     "output_type": "stream",
     "text": [
      "1 2 3\n",
      "4 1 2\n",
      "2 1\n"
     ]
    }
   ],
   "source": [
    "# Compare the Triplets\n",
    "\n",
    "a = list(map(int, input().split()))\n",
    "b = list(map(int, input().split()))\n",
    "\n",
    "aliceScore = sum([(1 if a[i] > b[i] else 0) for i in range(len(a))])\n",
    "bobScore = sum([(1 if a[i] < b[i] else 0) for i in range(len(b))])\n",
    "\n",
    "print(aliceScore, bobScore)"
   ]
  },
  {
   "cell_type": "code",
   "execution_count": 3,
   "metadata": {},
   "outputs": [
    {
     "name": "stdout",
     "output_type": "stream",
     "text": [
      "3\n",
      "11 2 4\n",
      "4 5 6\n",
      "10 8 -12\n",
      "15\n"
     ]
    }
   ],
   "source": [
    "# Diagonal Difference\n",
    "\n",
    "a = []\n",
    "result = 0\n",
    "\n",
    "for i in range(int(input())):\n",
    "    a = list(map(int, input().split()))\n",
    "    result += a[i] - a[-1-i]\n",
    "    \n",
    "print(abs(result))"
   ]
  },
  {
   "cell_type": "code",
   "execution_count": 4,
   "metadata": {},
   "outputs": [
    {
     "name": "stdout",
     "output_type": "stream",
     "text": [
      "5\n",
      "1 1 -1 -1 0\n",
      "0.400000\n",
      "0.400000\n",
      "0.200000\n"
     ]
    }
   ],
   "source": [
    "# Plus Minus\n",
    "\n",
    "n = int(input())\n",
    "arr = list(map(int, input().split()))\n",
    "\n",
    "print(\"{:.6f}\".format(len([x for x in arr if x > 0]) / n))\n",
    "print(\"{:.6f}\".format(len([x for x in arr if x < 0]) / n))\n",
    "print(\"{:.6f}\".format(len([x for x in arr if x == 0]) / n))"
   ]
  },
  {
   "cell_type": "code",
   "execution_count": 6,
   "metadata": {
    "scrolled": true
   },
   "outputs": [
    {
     "name": "stdout",
     "output_type": "stream",
     "text": [
      "6\n",
      "     #\n",
      "    ##\n",
      "   ###\n",
      "  ####\n",
      " #####\n",
      "######\n"
     ]
    }
   ],
   "source": [
    "# Staircase\n",
    "\n",
    "def staircase(a):\n",
    "    for i in range(1, a+1):\n",
    "        print((a-i) * ' ' + i * '#')\n",
    "        \n",
    "n = int(input())\n",
    "staircase(n)"
   ]
  },
  {
   "cell_type": "code",
   "execution_count": 7,
   "metadata": {},
   "outputs": [
    {
     "name": "stdout",
     "output_type": "stream",
     "text": [
      "7:30:00PM\n",
      "19:30:00\n"
     ]
    }
   ],
   "source": [
    "# Time Conversion\n",
    "\n",
    "import time\n",
    "\n",
    "print(time.strftime('%H:%M:%S', time.strptime(input(), '%I:%M:%S%p')))"
   ]
  },
  {
   "cell_type": "code",
   "execution_count": 9,
   "metadata": {},
   "outputs": [
    {
     "name": "stdout",
     "output_type": "stream",
     "text": [
      "4\n",
      "73\n",
      "75\n",
      "28\n",
      "28\n",
      "92\n",
      "92\n",
      "67\n",
      "67\n"
     ]
    }
   ],
   "source": [
    "# Grading Students\n",
    "\n",
    "for _ in range(int(input())):\n",
    "    grade = int(input())\n",
    "    if grade > 38 and grade % 5 >= 3:\n",
    "        grade = (grade+5) // 5 * 5\n",
    "    print(grade)"
   ]
  },
  {
   "cell_type": "code",
   "execution_count": 10,
   "metadata": {},
   "outputs": [
    {
     "name": "stdout",
     "output_type": "stream",
     "text": [
      "7 11\n",
      "5 15\n",
      "3 2\n",
      "-2 2 1\n",
      "5 -6\n",
      "1\n",
      "1\n"
     ]
    }
   ],
   "source": [
    "# Apple and Orange\n",
    "\n",
    "s, t, a, b, m, n = map(int, input().split() + input().split() + input().split())\n",
    "\n",
    "apple = list(map(int, input().split()))\n",
    "orange = list(map(int, input().split()))\n",
    "\n",
    "print(sum(s <= a + i <= t for i in apple))\n",
    "print(sum(s <= b + i <= t for i in orange))"
   ]
  },
  {
   "cell_type": "code",
   "execution_count": 11,
   "metadata": {},
   "outputs": [
    {
     "name": "stdout",
     "output_type": "stream",
     "text": [
      "0 3 4 2\n",
      "YES\n"
     ]
    }
   ],
   "source": [
    "# Kangaroo\n",
    "\n",
    "def kangaroo(x1, v1, x2, v2):\n",
    "    return 'YES' if (v1 > v2) and (x2-x1) % (v2-v1) == 0 else 'NO'\n",
    "\n",
    "x1, v1, x2, v2 = map(int, input().split())\n",
    "\n",
    "print(kangaroo(x1, v1, x2, v2))"
   ]
  },
  {
   "cell_type": "code",
   "execution_count": 12,
   "metadata": {},
   "outputs": [
    {
     "name": "stdout",
     "output_type": "stream",
     "text": [
      "2 3\n",
      "2 4\n",
      "16 32 96\n",
      "3\n"
     ]
    }
   ],
   "source": [
    "# Between Two Sets\n",
    "\n",
    "_, a, b = input(), list(map(int, input().split())), list(map(int, input().split()))\n",
    "\n",
    "print(sum([all(i % x == 0 for x in a) and\n",
    "         all(x % i == 0 for x in b) for i in range(max(a), min(b)+1)]))"
   ]
  },
  {
   "cell_type": "code",
   "execution_count": 13,
   "metadata": {},
   "outputs": [
    {
     "name": "stdout",
     "output_type": "stream",
     "text": [
      "9\n",
      "10 5 20 20 4 5 2 25 1\n",
      "2 4\n"
     ]
    }
   ],
   "source": [
    "# Breaking the Records\n",
    "\n",
    "def breaking_records(score):\n",
    "    minScore = maxScore = score[0]\n",
    "    min_count = max_count = 0\n",
    "    \n",
    "    for i in score[1:]:\n",
    "        if i > maxScore:\n",
    "            max_count += 1\n",
    "            maxScore = i\n",
    "        if i < minScore:\n",
    "            min_count += 1\n",
    "            minScore = i\n",
    "            \n",
    "    return max_count, min_count\n",
    "\n",
    "n = int(input())\n",
    "score = list(map(int, input().split()))\n",
    "print(*breaking_records(score))"
   ]
  },
  {
   "cell_type": "code",
   "execution_count": 16,
   "metadata": {},
   "outputs": [
    {
     "name": "stdout",
     "output_type": "stream",
     "text": [
      "5\n",
      "1 2 1 3 2\n",
      "3 2\n",
      "2\n"
     ]
    }
   ],
   "source": [
    "# Birthday Chocolate\n",
    "\n",
    "n, s = int(input().strip()), list(map(int, input().split()))\n",
    "d, m = map(int, input().split())\n",
    "print(sum([sum(s[i: i+m]) == d for i in range(len(s) - m + 1)]))"
   ]
  },
  {
   "cell_type": "code",
   "execution_count": 17,
   "metadata": {},
   "outputs": [
    {
     "name": "stdout",
     "output_type": "stream",
     "text": [
      "10 2 3\n",
      "3 1\n",
      "5 2 8\n",
      "9\n"
     ]
    }
   ],
   "source": [
    "# Electronics Shop\n",
    "\n",
    "def getMoneySpent(keyboards, drives, b):\n",
    "    result = -1\n",
    "    \n",
    "    for i in range(1, len(keyboards)):\n",
    "        for j in range(1, len(drives)):\n",
    "            if result < keyboards[i] + drives[j] <= b:\n",
    "                result = keyboards[i] + drives[j]\n",
    "    return result\n",
    "\n",
    "b, n, m = map(int, input().split())\n",
    "keyboards = list(map(int, input().rstrip().split()))\n",
    "drives = list(map(int, input().rstrip().split()))\n",
    "moneySpent = getMoneySpent(keyboards, drives, b)\n",
    "print(moneySpent)"
   ]
  },
  {
   "cell_type": "code",
   "execution_count": 18,
   "metadata": {},
   "outputs": [
    {
     "name": "stdout",
     "output_type": "stream",
     "text": [
      "2\n",
      "1 2 3\n",
      "Cat B\n",
      "1 3 2\n",
      "Mouse C\n"
     ]
    }
   ],
   "source": [
    "# Cats and Mouse\n",
    "\n",
    "def catAndMouse(catA, catB, mouseC):\n",
    "    distanceA = abs(catA - mouseC)\n",
    "    distanceB = abs(catB - mouseC)\n",
    "    \n",
    "    if distanceA > distanceB:\n",
    "        print('Cat B')\n",
    "    elif distanceA == distanceB:\n",
    "        print('Mouse C')\n",
    "    else:\n",
    "        print('Cat A')\n",
    "        \n",
    "n = int(input())\n",
    "\n",
    "for i in range(n):\n",
    "    catA, catB, mouseC = map(int, input().split())\n",
    "    catAndMouse(catA, catB, mouseC)"
   ]
  },
  {
   "cell_type": "code",
   "execution_count": 19,
   "metadata": {},
   "outputs": [
    {
     "name": "stdout",
     "output_type": "stream",
     "text": [
      "6\n",
      "4 6 5 3 3 1\n",
      "3\n"
     ]
    }
   ],
   "source": [
    "# Picking Numbers\n",
    "\n",
    "def pickingNumbers(arr):\n",
    "    result = 0\n",
    "    checked = set()\n",
    "    \n",
    "    for i in range(len(arr)):\n",
    "        if i not in checked:\n",
    "            maxCount = max(arr.count(arr[i]) + arr.count(arr[i]+1), arr.count(arr[i]) + arr.count(arr[i]-1))\n",
    "            if maxCount > result:\n",
    "                result = maxCount\n",
    "            checked.add(i)\n",
    "    return result\n",
    "\n",
    "\n",
    "n = int(input().strip())\n",
    "arr = list(map(int, input().strip().split()))\n",
    "result = pickingNumbers(arr)\n",
    "print(result)"
   ]
  },
  {
   "cell_type": "code",
   "execution_count": 22,
   "metadata": {},
   "outputs": [
    {
     "name": "stdout",
     "output_type": "stream",
     "text": [
      "7\n",
      "100 100 50 40 40 20 10\n",
      "5\n",
      "5\n",
      "6\n"
     ]
    }
   ],
   "source": [
    "# Climbing the Leaderboard\n",
    "\n",
    "def climbingLeaderboard(leaderboard, aliceScores):\n",
    "    rankings = createRankings(leaderboard)\n",
    "    i = len(leaderboard) - 1\n",
    "    \n",
    "    for score in aliceScores:\n",
    "        flag = True\n",
    "        while flag:\n",
    "            if i == -1:\n",
    "                print(1)\n",
    "                flag = False\n",
    "            elif score < leaderboard[i]:\n",
    "                print(rankings[i] + 1)\n",
    "                flag = False\n",
    "            elif score == leaderboard[i]:\n",
    "                print(rankings[i])\n",
    "                flag = False\n",
    "            elif score > leaderboard[i]:\n",
    "                i -= 1\n",
    "    return\n",
    "\n",
    "\n",
    "def createRankings(leaderboard):\n",
    "    rankings = [1]\n",
    "    rank = 1\n",
    "    \n",
    "    for i in range(1, len(leaderboard)):\n",
    "        if leaderboard[i] < leaderboard[i-1]:\n",
    "            rank += 1\n",
    "        rankings.append(rank)\n",
    "        \n",
    "    return rankings\n",
    "\n",
    "\n",
    "lenOfLeaderboard = int(input())\n",
    "leaderboard = list(map(int, input().rstrip().split()))\n",
    "lenOfAliceScores = int(input())\n",
    "aliceScores = list(map(int, input().rstrip().split()))\n",
    "climbingLeaderboard(leaderboard, aliceScores)"
   ]
  },
  {
   "cell_type": "code",
   "execution_count": 23,
   "metadata": {},
   "outputs": [
    {
     "name": "stdout",
     "output_type": "stream",
     "text": [
      "4\n",
      "6\n",
      "1 4 5 7 9 12\n",
      "1\n"
     ]
    }
   ],
   "source": [
    "# Intro to Tutorial Challenges\n",
    "\n",
    "v = int(input())\n",
    "n = int(input())\n",
    "arr = list(map(int, input().split()))\n",
    "i = 0\n",
    "\n",
    "while arr[i] != v:\n",
    "    i += 1\n",
    "    \n",
    "print(i)"
   ]
  },
  {
   "cell_type": "code",
   "execution_count": 24,
   "metadata": {},
   "outputs": [
    {
     "name": "stdout",
     "output_type": "stream",
     "text": [
      "6\n",
      "23145244\n",
      "1\n",
      "3\n",
      "10\n",
      "3\n",
      "5\n",
      "1\n",
      "3\n",
      "3\n",
      "5\n",
      "10\n",
      "23145244\n"
     ]
    }
   ],
   "source": [
    "# Big Sorting\n",
    "\n",
    "n = int(input())\n",
    "arr = []\n",
    "\n",
    "for i in range(n):\n",
    "    arr.append(input())\n",
    "    \n",
    "arr.sort(key = int)\n",
    "\n",
    "for _ in arr:\n",
    "    print(_)"
   ]
  },
  {
   "cell_type": "code",
   "execution_count": 27,
   "metadata": {},
   "outputs": [
    {
     "name": "stdout",
     "output_type": "stream",
     "text": [
      "5 2\n",
      "1 5 3 2 4\n",
      "3\n"
     ]
    }
   ],
   "source": [
    "# Pairs\n",
    "\n",
    "n, value = map(int, input().split())\n",
    "points = sorted(list(map(int, input().split())))\n",
    "\n",
    "ans = 0\n",
    "i = 0\n",
    "j = 1\n",
    "\n",
    "while j < n:\n",
    "    if points[j] - points[i] == value:\n",
    "        ans += 1\n",
    "        j += 1\n",
    "    elif points[j] - points[i] > value:\n",
    "        i += 1\n",
    "    elif points[j] - points[i] < value:\n",
    "        j += 1\n",
    "        \n",
    "print(ans)"
   ]
  },
  {
   "cell_type": "code",
   "execution_count": 28,
   "metadata": {},
   "outputs": [
    {
     "name": "stdout",
     "output_type": "stream",
     "text": [
      "3\n",
      "3 -7 0\n",
      "3\n"
     ]
    }
   ],
   "source": [
    "# Minimum Absolute Difference in an Array\n",
    "\n",
    "_ = input()\n",
    "arr = sorted(map(int, input().split()))\n",
    "diff = 2*10**9\n",
    "\n",
    "for i in range(1, len(arr)):\n",
    "    diff = min(diff, arr[i] - arr[i-1])\n",
    "print(diff)"
   ]
  },
  {
   "cell_type": "code",
   "execution_count": 29,
   "metadata": {},
   "outputs": [
    {
     "name": "stdout",
     "output_type": "stream",
     "text": [
      "3\n",
      "1 3 2\n",
      "11\n"
     ]
    }
   ],
   "source": [
    "# Marc's Cakewalk\n",
    "\n",
    "_ = input()\n",
    "calories = list(map(int, input().split()))\n",
    "calories = sorted(calories, reverse = True)\n",
    "ans = 0\n",
    "\n",
    "for index, cupcake in enumerate(calories):\n",
    "    ans += 2**index*cupcake\n",
    "    \n",
    "print(ans)"
   ]
  },
  {
   "cell_type": "code",
   "execution_count": 30,
   "metadata": {},
   "outputs": [
    {
     "name": "stdout",
     "output_type": "stream",
     "text": [
      "2\n",
      "3 10\n",
      "2 1 3\n",
      "7 8 9\n",
      "YES\n",
      "4 5\n",
      "1 2 2 1\n",
      "3 3 3 4\n",
      "NO\n"
     ]
    }
   ],
   "source": [
    "# Permuting Two Arrays\n",
    "\n",
    "n = int(input())\n",
    "\n",
    "for _ in range(n):\n",
    "    __, k = map(int, input().split())\n",
    "    a = sorted(list(map(int, input().split())))\n",
    "    b = sorted(list(map(int, input().split())), reverse = True)\n",
    "    \n",
    "    if all([a[i] + b[i] >= k for i in range(len(a))]):\n",
    "        print('YES')\n",
    "    else:\n",
    "        print('NO')"
   ]
  },
  {
   "cell_type": "code",
   "execution_count": 31,
   "metadata": {},
   "outputs": [
    {
     "name": "stdout",
     "output_type": "stream",
     "text": [
      "4 3\n",
      "1 2 3\n",
      "4\n"
     ]
    }
   ],
   "source": [
    "# The Coin Change Problem\n",
    "\n",
    "n, m = map(int, input().split())\n",
    "coins = list(map(int, input().split()))\n",
    "ans = [1] + [0]*n\n",
    "\n",
    "for i in range(m):\n",
    "    for j in range(coins[i], n+1):\n",
    "        ans[j] += ans[j - coins[i]]\n",
    "        \n",
    "print(ans[-1])"
   ]
  },
  {
   "cell_type": "code",
   "execution_count": 33,
   "metadata": {},
   "outputs": [
    {
     "name": "stdout",
     "output_type": "stream",
     "text": [
      "1\n",
      "3\n",
      "10 7 12\n",
      "3\n"
     ]
    }
   ],
   "source": [
    "# Equal\n",
    "\n",
    "target = [0, 1, 2]\n",
    "\n",
    "def solution(arr):\n",
    "    min_arr = min(arr)\n",
    "    results = [0] * len(target)\n",
    "    \n",
    "    for item in arr:\n",
    "        for i in target:\n",
    "            gap = item - min_arr + i\n",
    "            results[i] += gap // 5 + (gap%5) // 2 + (gap%5)%2\n",
    "    return min(results)\n",
    "\n",
    "for t in range(int(input())):\n",
    "    input()\n",
    "    items = list(map(int, input().split()))\n",
    "    print(solution(items))"
   ]
  },
  {
   "cell_type": "code",
   "execution_count": 35,
   "metadata": {},
   "outputs": [
    {
     "name": "stdout",
     "output_type": "stream",
     "text": [
      "1\n",
      "5\n",
      "10 1 10 1 10\n",
      "36\n"
     ]
    }
   ],
   "source": [
    "# Sherlock and Cost\n",
    "\n",
    "test = int(input())\n",
    "\n",
    "for i in range(test):\n",
    "    n = int(input())\n",
    "    b = list(map(int, input().split()))\n",
    "    \n",
    "    dp = [[0], [0]]\n",
    "    \n",
    "    for i in range(1, len(b)):\n",
    "        add_1 = max(dp[0][-1], dp[1][-1] + b[i-1] - 1)\n",
    "        add_max = max(dp[0][-1] + b[i] - 1, dp[1][-1] + abs(b[i] - b[i-1]))\n",
    "        dp[0].append(add_1)\n",
    "        dp[1].append(add_max)\n",
    "        \n",
    "    print(max(dp[0][-1], dp[1][-1]))"
   ]
  },
  {
   "cell_type": "code",
   "execution_count": 36,
   "metadata": {},
   "outputs": [
    {
     "name": "stdout",
     "output_type": "stream",
     "text": [
      "4 3 2\n",
      "3\n"
     ]
    }
   ],
   "source": [
    "# Contruct the Array\n",
    "\n",
    "def count_array(n, k, x):\n",
    "    dp = [[1], [1]]\n",
    "    \n",
    "    if x == 1:\n",
    "        dp = [[1], [0]]\n",
    "    else:\n",
    "        dp = [[1], [1]]\n",
    "        \n",
    "    for x in range(n - 2):\n",
    "        dp[0].append(dp[0][-1] * (k-1) % (10**9 + 7))\n",
    "        dp[1].append((dp[0][-1] - dp[1][-1]) % (10 ** 9 + 7))\n",
    "    return dp[1][-1]\n",
    "\n",
    "n, k, x = map(int, input().split())\n",
    "print(count_array(n, k, x))"
   ]
  },
  {
   "cell_type": "code",
   "execution_count": 37,
   "metadata": {},
   "outputs": [
    {
     "name": "stdout",
     "output_type": "stream",
     "text": [
      "0 1 5\n",
      "5\n"
     ]
    }
   ],
   "source": [
    "# Fibonacci Modified\n",
    "\n",
    "n1, n2, n = map(int, input().split())\n",
    "sequence = [n1, n2]\n",
    "\n",
    "if n <= 2:\n",
    "    print(sequence[n-1])\n",
    "else:\n",
    "    for i in range(n-2):\n",
    "        sequence.append(sequence[-2] + sequence[-1]**2)\n",
    "    print(sequence[-1])"
   ]
  },
  {
   "cell_type": "code",
   "execution_count": 3,
   "metadata": {},
   "outputs": [
    {
     "data": {
      "image/png": "[encoded data removed]",
      "text/plain": [
       "<Figure size 432x288 with 1 Axes>"
      ]
     },
     "metadata": {
      "needs_background": "light"
     },
     "output_type": "display_data"
    },
    {
     "name": "stderr",
     "output_type": "stream",
     "text": [
      "C:\\Users\\maoja\\Anaconda3\\lib\\site-packages\\ipykernel_launcher.py:18: FutureWarning: Method .as_matrix will be removed in a future version. Use .values instead.\n",
      "C:\\Users\\maoja\\Anaconda3\\lib\\site-packages\\ipykernel_launcher.py:19: FutureWarning: Method .as_matrix will be removed in a future version. Use .values instead.\n"
     ]
    },
    {
     "name": "stdout",
     "output_type": "stream",
     "text": [
      "3.2\n",
      "6.4\n"
     ]
    }
   ],
   "source": [
    "# Linear Regression\n",
    "\n",
    "import sys\n",
    "import pandas as pd\n",
    "from sklearn import linear_model\n",
    "import matplotlib.pyplot as plt\n",
    "\n",
    "dataset = pd.read_csv('https://s3.amazonaws.com/hr-testcases/399/assets/trainingdata.txt', header = None)\n",
    "\n",
    "plt.plot(dataset.iloc[:,0], dataset.iloc[:,1], 'ro')\n",
    "plt.ylabel('Laptop battery life')\n",
    "plt.show()\n",
    "\n",
    "dataset = dataset[dataset.iloc[:, 1] < 8]\n",
    "\n",
    "dataset.insert(0, len(dataset.columns), 0)\n",
    "\n",
    "X = dataset.iloc[:,0:2].as_matrix()\n",
    "Y = dataset.iloc[:,2].as_matrix()\n",
    "\n",
    "model = linear_model.LinearRegression()\n",
    "model.fit(X, Y)\n",
    "\n",
    "timeCharged = float(input().strip())\n",
    "result = model.predict([[0, timeCharged]])\n",
    "if result[0] > 8:\n",
    "    print(8.0)\n",
    "else:\n",
    "    print(round(result[0], 2))"
   ]
  }
 ],
 "metadata": {
  "kernelspec": {
   "display_name": "Python 3",
   "language": "python",
   "name": "python3"
  },
  "language_info": {
   "codemirror_mode": {
    "name": "ipython",
    "version": 3
   },
   "file_extension": ".py",
   "mimetype": "text/x-python",
   "name": "python",
   "nbconvert_exporter": "python",
   "pygments_lexer": "ipython3",
   "version": "3.7.3"
  }
 },
 "nbformat": 4,
 "nbformat_minor": 2
}
