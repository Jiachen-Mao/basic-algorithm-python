{
 "cells": [
  {
   "cell_type": "code",
   "execution_count": 1,
   "metadata": {},
   "outputs": [
    {
     "name": "stdout",
     "output_type": "stream",
     "text": [
      "6\n",
      "1 2 3 4 5 6\n",
      "21\n"
     ]
    }
   ],
   "source": [
    "# Simple Array Sum\n",
    "\n",
    "n = int(input())\n",
    "arr = list(map(int, input().split()))\n",
    "\n",
    "print(sum(arr))"
   ]
  },
  {
   "cell_type": "code",
   "execution_count": 2,
   "metadata": {},
   "outputs": [
    {
     "name": "stdout",
     "output_type": "stream",
     "text": [
      "1 2 3\n",
      "4 1 2\n",
      "2 1\n"
     ]
    }
   ],
   "source": [
    "# Compare the Triplets\n",
    "\n",
    "a = list(map(int, input().split()))\n",
    "b = list(map(int, input().split()))\n",
    "\n",
    "aliceScore = sum([(1 if a[i] > b[i] else 0) for i in range(len(a))])\n",
    "bobScore = sum([(1 if a[i] < b[i] else 0) for i in range(len(b))])\n",
    "\n",
    "print(aliceScore, bobScore)"
   ]
  },
  {
   "cell_type": "code",
   "execution_count": 3,
   "metadata": {},
   "outputs": [
    {
     "name": "stdout",
     "output_type": "stream",
     "text": [
      "3\n",
      "11 2 4\n",
      "4 5 6\n",
      "10 8 -12\n",
      "15\n"
     ]
    }
   ],
   "source": [
    "# Diagonal Difference\n",
    "\n",
    "a = []\n",
    "result = 0\n",
    "\n",
    "for i in range(int(input())):\n",
    "    a = list(map(int, input().split()))\n",
    "    result += a[i] - a[-1-i]\n",
    "    \n",
    "print(abs(result))"
   ]
  },
  {
   "cell_type": "code",
   "execution_count": 4,
   "metadata": {},
   "outputs": [
    {
     "name": "stdout",
     "output_type": "stream",
     "text": [
      "5\n",
      "1 1 -1 -1 0\n",
      "0.400000\n",
      "0.400000\n",
      "0.200000\n"
     ]
    }
   ],
   "source": [
    "# Plus Minus\n",
    "\n",
    "n = int(input())\n",
    "arr = list(map(int, input().split()))\n",
    "\n",
    "print(\"{:.6f}\".format(len([x for x in arr if x > 0]) / n))\n",
    "print(\"{:.6f}\".format(len([x for x in arr if x < 0]) / n))\n",
    "print(\"{:.6f}\".format(len([x for x in arr if x == 0]) / n))"
   ]
  },
  {
   "cell_type": "code",
   "execution_count": 6,
   "metadata": {},
   "outputs": [
    {
     "name": "stdout",
     "output_type": "stream",
     "text": [
      "6\n",
      "     #\n",
      "    ##\n",
      "   ###\n",
      "  ####\n",
      " #####\n",
      "######\n"
     ]
    }
   ],
   "source": [
    "# Staircase\n",
    "\n",
    "def staircase(a):\n",
    "    for i in range(1, a+1):\n",
    "        print((a-i) * ' ' + i * '#')\n",
    "        \n",
    "n = int(input())\n",
    "staircase(n)"
   ]
  },
  {
   "cell_type": "code",
   "execution_count": 7,
   "metadata": {},
   "outputs": [
    {
     "name": "stdout",
     "output_type": "stream",
     "text": [
      "7:30:00PM\n",
      "19:30:00\n"
     ]
    }
   ],
   "source": [
    "# Time Conversion\n",
    "\n",
    "import time\n",
    "\n",
    "print(time.strftime('%H:%M:%S', time.strptime(input(), '%I:%M:%S%p')))"
   ]
  },
  {
   "cell_type": "code",
   "execution_count": null,
   "metadata": {},
   "outputs": [],
   "source": []
  }
 ],
 "metadata": {
  "kernelspec": {
   "display_name": "Python 3",
   "language": "python",
   "name": "python3"
  },
  "language_info": {
   "codemirror_mode": {
    "name": "ipython",
    "version": 3
   },
   "file_extension": ".py",
   "mimetype": "text/x-python",
   "name": "python",
   "nbconvert_exporter": "python",
   "pygments_lexer": "ipython3",
   "version": "3.7.3"
  }
 },
 "nbformat": 4,
 "nbformat_minor": 2
}
