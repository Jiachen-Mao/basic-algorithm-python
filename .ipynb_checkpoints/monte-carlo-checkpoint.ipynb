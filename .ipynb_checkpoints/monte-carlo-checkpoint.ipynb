{
 "cells": [
  {
   "cell_type": "markdown",
   "metadata": {},
   "source": [
    "# Monte Carlo used in case study"
   ]
  },
  {
   "cell_type": "code",
   "execution_count": 1,
   "metadata": {},
   "outputs": [],
   "source": [
    "import numpy as np"
   ]
  },
  {
   "cell_type": "code",
   "execution_count": 2,
   "metadata": {},
   "outputs": [],
   "source": [
    "def mc(T, S1, S21, S22):\n",
    "    \n",
    "    LS1 = 0\n",
    "    LS2 = 0\n",
    "    k = 1\n",
    "    \n",
    "    while k < T:\n",
    "        KC1 = S1\n",
    "        KC2 = (S21 + S22) / 2\n",
    "        C = np.random.normal(1500, 30^2)\n",
    "        \n",
    "        if C > KC1:\n",
    "            ST1 = KC1\n",
    "        else:\n",
    "            ST1 = C\n",
    "        \n",
    "        if C > KC2:\n",
    "            ST2 = KC2\n",
    "        else:\n",
    "            ST2 = C\n",
    "        \n",
    "        L1 = 4*ST1 - 1.5*KC1\n",
    "        L2 = 4*ST2 - 1.5*KC2\n",
    "        \n",
    "        LS1 = LS1 + L1\n",
    "        LS2 = LS2 + L2\n",
    "        \n",
    "        k = k + 1\n",
    "        S1 = ST1\n",
    "        S22 = S21\n",
    "        S21 = ST2\n",
    "    \n",
    "    return LS1/T, LS2/T"
   ]
  },
  {
   "cell_type": "code",
   "execution_count": 3,
   "metadata": {},
   "outputs": [
    {
     "data": {
      "text/plain": [
       "(3490.6344108337266, 3502.5305205638847)"
      ]
     },
     "execution_count": 3,
     "metadata": {},
     "output_type": "execute_result"
    }
   ],
   "source": [
    "s1 = np.random.normal(1500, 30^2)\n",
    "s2 = np.random.normal(1500, 30^2)\n",
    "s3 = np.random.normal(1500, 30^2)\n",
    "\n",
    "mc(20, s1, s2, s3)"
   ]
  },
  {
   "cell_type": "code",
   "execution_count": null,
   "metadata": {},
   "outputs": [],
   "source": []
  }
 ],
 "metadata": {
  "kernelspec": {
   "display_name": "Python 3",
   "language": "python",
   "name": "python3"
  },
  "language_info": {
   "codemirror_mode": {
    "name": "ipython",
    "version": 3
   },
   "file_extension": ".py",
   "mimetype": "text/x-python",
   "name": "python",
   "nbconvert_exporter": "python",
   "pygments_lexer": "ipython3",
   "version": "3.7.3"
  }
 },
 "nbformat": 4,
 "nbformat_minor": 2
}
