{
 "cells": [
  {
   "cell_type": "code",
   "execution_count": null,
   "metadata": {},
   "outputs": [],
   "source": [
    "# 0020 Valid parentheses\n",
    "\n",
    "class Solution:\n",
    "    \n",
    "    def  isValid(self, s):\n",
    "        \n",
    "        stack = []\n",
    "        map = {\n",
    "            \"{\": \"}\",\n",
    "            \"[\": \"]\",\n",
    "            \"(\": \")\"\n",
    "        }\n",
    "        \n",
    "        for x in s:\n",
    "            if x in map:\n",
    "                stack.append(map[x])\n",
    "            else:\n",
    "                if len(stack) != 0:\n",
    "                    top_element = stack.pop()\n",
    "                    if x != top_element:\n",
    "                        return False\n",
    "                    else:\n",
    "                        continue\n",
    "                else:\n",
    "                    return False\n",
    "            return len(stack) == 0"
   ]
  },
  {
   "cell_type": "code",
   "execution_count": null,
   "metadata": {},
   "outputs": [],
   "source": [
    "# 0026 Remove duplicates from sorted array\n",
    "\n",
    "class Solution:\n",
    "    \n",
    "    def removeDuplicates(self, nums: List[int]) -> int:\n",
    "        if nums:\n",
    "            slow = 0\n",
    "            for fast in range(1, len(nums)):\n",
    "                if nums[fast] != nums[slow]\n",
    "                slow += 1\n",
    "                nums[slow] = numsp[fast]\n",
    "            return slow + 1\n",
    "        else:\n",
    "            return 0"
   ]
  },
  {
   "cell_type": "code",
   "execution_count": null,
   "metadata": {},
   "outputs": [],
   "source": [
    "# 0053 Maximum sum subarray\n",
    "\n",
    "import sys\n",
    "\n",
    "class Solution:\n",
    "    def maxSubArray(self, nums: List[int]) -> int:\n",
    "        n = len(nums)\n",
    "        maxSum = -sys.maxsize\n",
    "        sum = 0\n",
    "        for i in range(n):\n",
    "            sum = 0\n",
    "            for j in range(i, n):\n",
    "                sum += nums[j]\n",
    "                maxSum = max(maxSum, sum)\n",
    "        return maxSum\n",
    "    \n",
    "    \n",
    "class Solution:\n",
    "    def maxSubArray(self, nums: List[int]) -> int:\n",
    "        n = len(nums)\n",
    "        maxSum = nums[0]\n",
    "        minSum = sum = 0\n",
    "        for i in range(n):\n",
    "            sum += nums[i]\n",
    "            maxSum = max(maxSum, sum - minSum)\n",
    "            minSum = min(minSum, sum)\n",
    "        return maxSum\n",
    "    \n",
    "    \n",
    "class Solution:\n",
    "    def maxSubArray(self, nums: List[int]) -> int:\n",
    "        n = len(nums)\n",
    "        max_sum_ending_curr_index = max_sum = nums[0]\n",
    "        for i in range(1, n):\n",
    "            max_sum_ending_curr_index = max(max_sum_ending_curr_index + nums[i], num[i])\n",
    "            max_sum = max(max_sum_ending_curr_index, max_sum)\n",
    "        return max_sum"
   ]
  },
  {
   "cell_type": "code",
   "execution_count": null,
   "metadata": {},
   "outputs": [],
   "source": [
    "# 0088 Merge sorted array\n",
    "\n",
    "class Solution:\n",
    "    def merge(self, num1: List[int], m: int, nums2: List[int], n: int) -> None:\n",
    "        while m > 0 and n > 0:\n",
    "            if nums1[m-1] <= nums2[n-1]:\n",
    "                nums1[m+n-1] = nums[n-1]\n",
    "                n -= 1\n",
    "            else:\n",
    "                nums1[m+n-1] = nums1[m-1]\n",
    "                m -= 1\n",
    "        if n > 0:\n",
    "            nums1[:n] = nums2[:n]"
   ]
  },
  {
   "cell_type": "code",
   "execution_count": null,
   "metadata": {},
   "outputs": [],
   "source": [
    "# 0104 Maximum depth of binary tree\n",
    "\n",
    "class Solution:\n",
    "    def maxDepth(self, root: TreeNode) -> int:\n",
    "        if not root: return 0\n",
    "        q, depth = [root, None], 1\n",
    "        while q:\n",
    "            node = q.pop(0)\n",
    "            if node:\n",
    "                if node.left: q.append(node.left)\n",
    "                if node.right: q.append(node.right)\n",
    "            elif q:\n",
    "                q.append(None)\n",
    "                depth += 1\n",
    "        return depth"
   ]
  },
  {
   "cell_type": "code",
   "execution_count": null,
   "metadata": {},
   "outputs": [],
   "source": [
    "# 0121 Best time to buy and sell stock\n",
    "\n",
    "class Solution:\n",
    "    def maxProfit(self, prices: 'List[int]') -> int:\n",
    "        if not prices: return 0\n",
    "        \n",
    "        min_price = float('inf')\n",
    "        max_profit = 0\n",
    "        \n",
    "        for price in prices:\n",
    "            if price < min_price:\n",
    "                min_price = price\n",
    "            elif max_profit < price - min_price:\n",
    "                max_profit = price - min_price\n",
    "        return max_profit"
   ]
  },
  {
   "cell_type": "code",
   "execution_count": null,
   "metadata": {},
   "outputs": [],
   "source": [
    "# 0122 Best time to buy and sell stock II\n",
    "\n",
    "class Solution:\n",
    "    def maxProfit(self, prices: 'List[int]') -> int:\n",
    "        gains = [prices[i] - prices[i-1] for i in range(1, len(prices))\n",
    "                if prices[i] - prices[i-1] > 0]\n",
    "        return sum(gains)"
   ]
  }
 ],
 "metadata": {
  "kernelspec": {
   "display_name": "Python 3",
   "language": "python",
   "name": "python3"
  },
  "language_info": {
   "codemirror_mode": {
    "name": "ipython",
    "version": 3
   },
   "file_extension": ".py",
   "mimetype": "text/x-python",
   "name": "python",
   "nbconvert_exporter": "python",
   "pygments_lexer": "ipython3",
   "version": "3.7.3"
  }
 },
 "nbformat": 4,
 "nbformat_minor": 2
}
