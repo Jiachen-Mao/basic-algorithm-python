{
 "cells": [
  {
   "cell_type": "code",
   "execution_count": 1,
   "metadata": {},
   "outputs": [
    {
     "data": {
      "text/plain": [
       "2345"
      ]
     },
     "execution_count": 1,
     "metadata": {},
     "output_type": "execute_result"
    }
   ],
   "source": [
    "# lrSegmentNumber\n",
    "\n",
    "def lrSegmentNumber(l, r):\n",
    "    seg_num = ''\n",
    "    \n",
    "    for i in range(l, r+1):\n",
    "        seg_num = seg_num + str(i)\n",
    "        \n",
    "    #print(int(seg_num))\n",
    "    return int(seg_num)\n",
    "\n",
    "lrSegmentNumber(2, 5)"
   ]
  },
  {
   "cell_type": "code",
   "execution_count": 2,
   "metadata": {},
   "outputs": [
    {
     "data": {
      "text/plain": [
       "True"
      ]
     },
     "execution_count": 2,
     "metadata": {},
     "output_type": "execute_result"
    }
   ],
   "source": [
    "# symmetricalMatrix\n",
    "\n",
    "import numpy as np\n",
    "\n",
    "def symmetricalMatrix(inputMatrix):\n",
    "    iM_transposed = np.transpose(inputMatrix)\n",
    "    \n",
    "    bool = np.array_equal(inputMatrix, iM_transposed)\n",
    "    \n",
    "    return bool\n",
    "\n",
    "m = [[0,1,2],\n",
    "    [1,5,3],\n",
    "    [2,3,4]]\n",
    "\n",
    "symmetricalMatrix(m)"
   ]
  },
  {
   "cell_type": "code",
   "execution_count": 3,
   "metadata": {},
   "outputs": [
    {
     "data": {
      "text/plain": [
       "3"
      ]
     },
     "execution_count": 3,
     "metadata": {},
     "output_type": "execute_result"
    }
   ],
   "source": [
    "# arrayMode\n",
    "\n",
    "def arrayMode(sequence):\n",
    "    am_dict = {}\n",
    "    \n",
    "    for num in sequence:\n",
    "        if num in am_dict:\n",
    "            am_dict[num] = am_dict[num] + 1\n",
    "        else:\n",
    "            am_dict[num] = 1\n",
    "            \n",
    "    mode = max(am_dict, key = am_dict.get)\n",
    "    \n",
    "    return mode\n",
    "\n",
    "seq = [1, 2, 3, 3, 3, 1]\n",
    "\n",
    "arrayMode(seq)"
   ]
  },
  {
   "cell_type": "code",
   "execution_count": 4,
   "metadata": {},
   "outputs": [
    {
     "data": {
      "text/plain": [
       "8"
      ]
     },
     "execution_count": 4,
     "metadata": {},
     "output_type": "execute_result"
    }
   ],
   "source": [
    "# arrayMaxConsecutiveSum\n",
    "\n",
    "import numpy as np\n",
    "\n",
    "def arrayMaxConsecutiveSum(inputArray, k):\n",
    "    num = 0\n",
    "    inputArray = np.array(inputArray)\n",
    "    \n",
    "    for i in range(0, len(inputArray)-k+1):\n",
    "        csum = np.sum(inputArray[i:(i+k)])\n",
    "        \n",
    "        if csum >= num:\n",
    "            num = csum\n",
    "            \n",
    "    return num\n",
    "\n",
    "inputArray = [2, 3, 5, 1, 6]\n",
    "k = 2\n",
    "arrayMaxConsecutiveSum(inputArray, k)"
   ]
  },
  {
   "cell_type": "code",
   "execution_count": 5,
   "metadata": {},
   "outputs": [
    {
     "data": {
      "text/plain": [
       "0"
      ]
     },
     "execution_count": 5,
     "metadata": {},
     "output_type": "execute_result"
    }
   ],
   "source": [
    "# maxFraction\n",
    "\n",
    "def maxFraction(numerators, denominators):\n",
    "    index = 0\n",
    "    frac = 0\n",
    "    \n",
    "    for i in range(0, len(numerators)):\n",
    "        frac_value = float(numerators[i]/denominators[i])\n",
    "        \n",
    "        if frac_value > frac:\n",
    "            frac = frac_value\n",
    "            index = i\n",
    "            \n",
    "    return index\n",
    "\n",
    "numerators = [1, 2, 3, 10]\n",
    "denominators = [1, 3, 4, 11]\n",
    "maxFraction(numerators, denominators)"
   ]
  },
  {
   "cell_type": "code",
   "execution_count": 6,
   "metadata": {},
   "outputs": [],
   "source": [
    "# pastEvents\n",
    "\n",
    "# SELECT a.name, a.event_date FROM Events as a\n",
    "# WHERE a.event_date < (SELECT MAX(b.event_date) FROM Events as b)\n",
    "# AND a.event_date >= (SELECT MAX(b.event_date) - INTERNAL 7 DAY FROM Events as b)\n",
    "# ORDER BY a.event_date DESC;"
   ]
  },
  {
   "cell_type": "code",
   "execution_count": 7,
   "metadata": {},
   "outputs": [
    {
     "data": {
      "text/plain": [
       "\"you'll never guess it: 2390\""
      ]
     },
     "execution_count": 7,
     "metadata": {},
     "output_type": "execute_result"
    }
   ],
   "source": [
    "# stolenLunch\n",
    "\n",
    "def stolenLunch(note):\n",
    "    cypher = {}\n",
    "    count = 0\n",
    "    new_note = ''\n",
    "    \n",
    "    for letter in range(ord('a'), ord('z')+1):\n",
    "        cypher[count] = chr(letter)\n",
    "        count += 1\n",
    "        \n",
    "    for i, item in enumerate(note):\n",
    "        if item.isdigit():\n",
    "            new_note = new_note + cypher[int(note[i])]\n",
    "        elif int(ord(item)) in range(int(ord('a')), int(ord('j'))+1):\n",
    "            new_note = new_note + str((int(ord(item)) - 97))\n",
    "        else:\n",
    "            new_note = new_note + item\n",
    "            \n",
    "    return new_note\n",
    "\n",
    "note = \"you'll n4v4r 6u4ss 8t: cdja\"\n",
    "stolenLunch(note)"
   ]
  },
  {
   "cell_type": "code",
   "execution_count": 8,
   "metadata": {},
   "outputs": [
    {
     "name": "stdout",
     "output_type": "stream",
     "text": [
      "1 1\n",
      "1 2\n",
      "2 2\n",
      "2 4\n",
      "3 3\n",
      "3 6\n"
     ]
    },
    {
     "data": {
      "text/plain": [
       "5"
      ]
     },
     "execution_count": 8,
     "metadata": {},
     "output_type": "execute_result"
    }
   ],
   "source": [
    "# differentValuesInMultiplicationTable\n",
    "\n",
    "def differentValuesInMultiplicationTable(n, m):\n",
    "    countd = {}\n",
    "    \n",
    "    for i in range(1, n+1):\n",
    "        for j in range(1, m+1):\n",
    "            countd[i*j] = 1\n",
    "            print(i, i*j)\n",
    "            \n",
    "    return sum(countd.values())\n",
    "\n",
    "n = 3\n",
    "m = 2\n",
    "differentValuesInMultiplicationTable(n, m)"
   ]
  },
  {
   "cell_type": "code",
   "execution_count": 9,
   "metadata": {},
   "outputs": [
    {
     "data": {
      "text/plain": [
       "'gdhellmoz'"
      ]
     },
     "execution_count": 9,
     "metadata": {},
     "output_type": "execute_result"
    }
   ],
   "source": [
    "# theSmallestStringCipher\n",
    "\n",
    "def theSmallestStringCipher(key, message):\n",
    "    clen = len(key) + len(message)\n",
    "    cdict = {}\n",
    "    kcount = 0\n",
    "    mcount = 0\n",
    "    ccount = 0\n",
    "    \n",
    "    while ccount < clen:\n",
    "        if kcount == len(key):\n",
    "            for i in range(mcount, len(message)):\n",
    "                cdict[ccount] = message[i]\n",
    "                ccount += 1\n",
    "                \n",
    "        elif mcount == len(message):\n",
    "            for i in range(kcount, len(key)):\n",
    "                cdict[ccount] = key[i]\n",
    "                ccount += 1\n",
    "                \n",
    "        elif ord(key[kcount]) < ord(message[mcount]):\n",
    "            cdict[ccount] = key[kcount]\n",
    "            kcount += 1\n",
    "            \n",
    "        elif ord(key[kcount]) > ord(message[mcount]):\n",
    "            cdict[ccount] = message[mcount]\n",
    "            mcount += 1\n",
    "            \n",
    "        elif ord(message[mcount] == ord(key[kcount])):\n",
    "            cdict[ccount] = key[kcount]\n",
    "            kcount += 1\n",
    "            \n",
    "        ccount += 1\n",
    "        \n",
    "    cstring = ''\n",
    "    \n",
    "    for key in cdict:\n",
    "        cstring = cstring + (cdict[key])\n",
    "        \n",
    "    return cstring\n",
    "\n",
    "\n",
    "key = \"gdmz\"\n",
    "message = \"hello\"\n",
    "theSmallestStringCipher(key, message)"
   ]
  },
  {
   "cell_type": "code",
   "execution_count": 10,
   "metadata": {},
   "outputs": [
    {
     "data": {
      "text/plain": [
       "2"
      ]
     },
     "execution_count": 10,
     "metadata": {},
     "output_type": "execute_result"
    }
   ],
   "source": [
    "# howManySundays\n",
    "\n",
    "def howManySundays(n, startDay):\n",
    "    s = 0\n",
    "    i = n\n",
    "    day = ['Sunday', 'Monday', 'Tuesday', 'Wednesday', 'Thursday', 'Friday', 'Saturday']\n",
    "    d = day.index(startDay)\n",
    "    \n",
    "    while i > 0:\n",
    "        d += 1\n",
    "        if d > 6:\n",
    "            d = 0\n",
    "        if day[d] == 'Sunday':\n",
    "            s += 1\n",
    "        i -= 1\n",
    "        \n",
    "    return s\n",
    "\n",
    "howManySundays(9, 'Saturday')"
   ]
  },
  {
   "cell_type": "code",
   "execution_count": 11,
   "metadata": {},
   "outputs": [
    {
     "data": {
      "text/plain": [
       "2"
      ]
     },
     "execution_count": 11,
     "metadata": {},
     "output_type": "execute_result"
    }
   ],
   "source": [
    "# countSumOfTwoRepresentations\n",
    "\n",
    "def countSumOfTwoRepresentations(n, l, r):\n",
    "    A = l\n",
    "    d = []\n",
    "    \n",
    "    for A in range(l, r+1):\n",
    "        #print(A)\n",
    "        B = A\n",
    "        while B <= r:\n",
    "            #print(B)\n",
    "            if A + B == n:\n",
    "                d.append([A, B])\n",
    "            B += 1\n",
    "            \n",
    "    return len(d)\n",
    "\n",
    "countSumOfTwoRepresentations(6, 2, 5)"
   ]
  }
 ],
 "metadata": {
  "kernelspec": {
   "display_name": "Python 3",
   "language": "python",
   "name": "python3"
  },
  "language_info": {
   "codemirror_mode": {
    "name": "ipython",
    "version": 3
   },
   "file_extension": ".py",
   "mimetype": "text/x-python",
   "name": "python",
   "nbconvert_exporter": "python",
   "pygments_lexer": "ipython3",
   "version": "3.7.3"
  }
 },
 "nbformat": 4,
 "nbformat_minor": 2
}
